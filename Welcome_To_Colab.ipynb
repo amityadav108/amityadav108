{
  "cells": [
    {
      "cell_type": "markdown",
      "metadata": {
        "id": "view-in-github",
        "colab_type": "text"
      },
      "source": [
        "<a href=\"https://colab.research.google.com/github/amityadav108/amityadav108/blob/main/Welcome_To_Colab.ipynb\" target=\"_parent\"><img src=\"https://colab.research.google.com/assets/colab-badge.svg\" alt=\"Open In Colab\"/></a>"
      ]
    },
    {
      "cell_type": "markdown",
      "source": [
        "# Employee Management system (Assignment)"
      ],
      "metadata": {
        "id": "dVN2vhiWcgH9"
      }
    },
    {
      "cell_type": "code",
      "source": [
        "# Step-1\n",
        "## Sample Data of Employee\n",
        "\n",
        "employees = {\n",
        "            101: {\"name\": \"Amit\", \"age\": 25, \"department\": \"IT\", \"salary\": 60000},\n",
        "            102: {\"name\": \"Madhu\", \"age\": 23, \"department\": \"HR\", \"salary\": 50000},\n",
        "            103: {\"name\": \"Mukesh\", \"age\": 27, \"department\": \"Sales\", \"salary\": 55000},\n",
        "            104: {\"name\": \"Priya\", \"age\": 24, \"department\": \"Finance\", \"salary\": 45000},\n",
        "            105: {\"name\": \"Anjali\", \"age\": 24, \"department\": \"Marketing\", \"salary\": 50000}\n",
        "}\n",
        "\n",
        "# Display empployee (for testing)\n",
        "\n",
        "def display_all_employees():\n",
        "    print(\"\\n All Employee Records: \\n\")\n",
        "    for emp_id, info in employees.items():\n",
        "        print(f\" ID: {emp_id}: Name: {info['name']}, Age: {info['age']}, Department: {info['department']}, Salary: {info['salary']}\")\n",
        "\n",
        "# testing\n",
        "\n",
        "display_all_employees()\n"
      ],
      "metadata": {
        "id": "irbTBAMKcTtF"
      },
      "execution_count": null,
      "outputs": []
    },
    {
      "cell_type": "code",
      "source": [
        "# Step -2\n",
        "## Main Menu\n",
        "\n",
        "def main_menu():\n",
        "    while True:\n",
        "        print(\"----- Employee Management System -----\")\n",
        "        print(\"1. Add Employees\")\n",
        "        print(\"2. View All Employees\")\n",
        "        print(\"3. Search for Employee\")\n",
        "        print(\"4. Exit\")\n",
        "\n",
        "        choice = input(\"Enter your choice(1-4): \")\n",
        "\n",
        "        if choice == '1':\n",
        "            add_employee()\n",
        "        elif choice == '2':\n",
        "            view_employee()\n",
        "        elif choice == '3':\n",
        "            search_employee()\n",
        "        elif choice == '4':\n",
        "            print(\"\\n Thank you for using the Employee Management System. \\n\")\n",
        "            break\n",
        "        else:\n",
        "            print(\"Invalid Choice. please enter the number between 1 to 4. \\n\")\n",
        ""
      ],
      "metadata": {
        "id": "M11jwKe3cnGg"
      },
      "execution_count": null,
      "outputs": []
    },
    {
      "cell_type": "code",
      "source": [
        "# Step-3\n",
        "## Add Employee Functionality\n",
        "\n",
        "def add_employee():\n",
        "    try:\n",
        "        emp_id = int(input(\"Enter the Employee ID: \"))\n",
        "        if emp_id in employees:\n",
        "            print(\"Employee ID already exists.\")\n",
        "            return\n",
        "        name = input(\"Enter Name: \")\n",
        "        age = int(input(\"Enter the Age: \"))\n",
        "        department = input(\"Enter the Department: \")\n",
        "        salary = float(input(\"Enter the salary: \"))\n",
        "\n",
        "        employees[emp_id] = {'name': name, 'age': age, 'department': department, 'salary': salary}\n",
        "        print(\"Employee  added successfully!\")\n",
        "\n",
        "    except valueError:\n",
        "        print(\"Invalid Input. Please enter correct data types.\")\n",
        "\n"
      ],
      "metadata": {
        "id": "9ooiUuKIcr5C"
      },
      "execution_count": null,
      "outputs": []
    },
    {
      "cell_type": "code",
      "source": [
        "# Step-4\n",
        "## View all Employee\n",
        "\n",
        "def view_all_employee():\n",
        "    if not employee:\n",
        "        print(\"No employee available. \\n\")\n",
        "        return\n",
        "    print(\"\\n All Employee Records: \\n\")\n",
        "    for emp_id, info in employees.items():\n",
        "        print(f\"ID: {emp_id}, Name: {info['name']}, Age: {info['age']}, Department: {info['department']}, Salary: {info['salary']}\")\n",
        "\n",
        "\n",
        ""
      ],
      "metadata": {
        "id": "5PEe6922cvSb"
      },
      "execution_count": null,
      "outputs": []
    },
    {
      "cell_type": "code",
      "source": [
        "# Step-5\n",
        "## Search Employee\n",
        "\n",
        "def search_employee():\n",
        "    try:\n",
        "        emp_id = int(input(\"Enter Employee ID to search: \"))\n",
        "        if emp_id in employees:\n",
        "            info = employees[emp_id]\n",
        "            print(f\"Found - ID: {emp_id}, Name : {info['name']}, Age: {info['age']}, Department: {info['department']}, Salary: {info['salary']} \")\n",
        "        else:\n",
        "            print(\"Employee Not Found.\")\n",
        "\n",
        "    except ValueError:\n",
        "        print(\"Invalid Input. Please enter a valid ID.\")"
      ],
      "metadata": {
        "id": "7GnwRzVncyUb"
      },
      "execution_count": null,
      "outputs": []
    },
    {
      "cell_type": "code",
      "source": [
        "#Step-6\n",
        "## Run the EMS and Exit the Program\n",
        "main_menu()"
      ],
      "metadata": {
        "colab": {
          "base_uri": "https://localhost:8080/"
        },
        "id": "d68oyyj1c2Zu",
        "outputId": "91d58ac6-6091-4fdf-e564-974e6d74508d"
      },
      "execution_count": null,
      "outputs": [
        {
          "output_type": "stream",
          "name": "stdout",
          "text": [
            "----- Employee Management System -----\n",
            "1. Add Employees\n",
            "2. View All Employees\n",
            "3. Search for Employee\n",
            "4. Exit\n",
            "Enter your choice(1-4): 1\n",
            "Enter the Employee ID: 107\n",
            "Enter Name: Shiv\n",
            "Enter the Age: 23\n",
            "Enter the Department: Sales\n",
            "Enter the salary: 45000\n",
            "Employee  added successfully!\n",
            "----- Employee Management System -----\n",
            "1. Add Employees\n",
            "2. View All Employees\n",
            "3. Search for Employee\n",
            "4. Exit\n"
          ]
        }
      ]
    },
    {
      "cell_type": "markdown",
      "source": [],
      "metadata": {
        "id": "jKZWeqqlcd3z"
      }
    }
  ],
  "metadata": {
    "colab": {
      "name": "Welcome To Colab",
      "provenance": [],
      "include_colab_link": true
    },
    "kernelspec": {
      "display_name": "Python 3",
      "name": "python3"
    }
  },
  "nbformat": 4,
  "nbformat_minor": 0
}