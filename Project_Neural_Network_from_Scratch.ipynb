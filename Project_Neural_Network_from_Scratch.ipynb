{
  "cells": [
    {
      "cell_type": "markdown",
      "metadata": {
        "id": "view-in-github",
        "colab_type": "text"
      },
      "source": [
        "<a href=\"https://colab.research.google.com/github/amityadav108/amityadav108/blob/main/Project_Neural_Network_from_Scratch.ipynb\" target=\"_parent\"><img src=\"https://colab.research.google.com/assets/colab-badge.svg\" alt=\"Open In Colab\"/></a>"
      ]
    },
    {
      "cell_type": "markdown",
      "id": "b484f45b-a322-484c-aaca-b42d21b6927f",
      "metadata": {
        "id": "b484f45b-a322-484c-aaca-b42d21b6927f"
      },
      "source": [
        "# ASSIGNMENT 4: NEURAL NETWORK\n",
        "##### Module 11: Project – Neural Network for Image Recognition of Letters A, B, and C\n"
      ]
    },
    {
      "cell_type": "markdown",
      "id": "2231d247-2a5c-4d04-8f8a-667f601b842b",
      "metadata": {
        "id": "2231d247-2a5c-4d04-8f8a-667f601b842b"
      },
      "source": [
        "## Implementation of neural network from scratch using Numpy"
      ]
    },
    {
      "cell_type": "code",
      "execution_count": null,
      "id": "7f61a79a-9335-4994-9a5d-72379e30583a",
      "metadata": {
        "id": "7f61a79a-9335-4994-9a5d-72379e30583a"
      },
      "outputs": [],
      "source": [
        "# dataset\n",
        "#A\n",
        "A = [0,0,1,1,0,0,\n",
        "    0,1,0,0,1,0,\n",
        "    1,1,1,1,1,1,\n",
        "    1,0,0,0,0,1,\n",
        "    1,0,0,0,0,1]\n",
        "#B\n",
        "B = [0,1,1,1,1,0,\n",
        "    0,1,0,0,1,0,\n",
        "    0,1,1,1,1,0,\n",
        "    0,1,0,0,1,0,\n",
        "    0,1,1,1,1,0]\n",
        "#C\n",
        "C = [0,1,1,1,1,0,\n",
        "    0,1,0,0,0,0,\n",
        "    0,1,0,0,0,0,\n",
        "    0,1,0,0,0,0,\n",
        "    0,1,1,1,1,0]"
      ]
    },
    {
      "cell_type": "code",
      "execution_count": null,
      "id": "21f49043-4f45-44e8-a6d3-0b37dafb26c9",
      "metadata": {
        "id": "21f49043-4f45-44e8-a6d3-0b37dafb26c9"
      },
      "outputs": [],
      "source": [
        "# create labels\n",
        "y = [[1,0,0],\n",
        "    [0,1,0],\n",
        "    [0,0,1]]"
      ]
    },
    {
      "cell_type": "code",
      "execution_count": null,
      "id": "dcd39510-4698-4dea-875d-3909f1890484",
      "metadata": {
        "id": "dcd39510-4698-4dea-875d-3909f1890484"
      },
      "outputs": [],
      "source": [
        "# import the libraries\n",
        "import numpy as np\n",
        "import matplotlib.pyplot as plt"
      ]
    },
    {
      "cell_type": "code",
      "execution_count": null,
      "id": "784f8f20-0292-4499-b8de-9f00f567986e",
      "metadata": {
        "id": "784f8f20-0292-4499-b8de-9f00f567986e",
        "outputId": "b579ff4f-e4e5-485f-83f2-1ee1307fe7f5"
      },
      "outputs": [
        {
          "data": {
            "image/png": "[encoded data removed]",
            "text/plain": [
              "<Figure size 640x480 with 1 Axes>"
            ]
          },
          "metadata": {},
          "output_type": "display_data"
        },
        {
          "data": {
            "image/png": "[encoded data removed]",
            "text/plain": [
              "<Figure size 640x480 with 1 Axes>"
            ]
          },
          "metadata": {},
          "output_type": "display_data"
        },
        {
          "data": {
            "image/png": "[encoded data removed]",
            "text/plain": [
              "<Figure size 640x480 with 1 Axes>"
            ]
          },
          "metadata": {},
          "output_type": "display_data"
        }
      ],
      "source": [
        "# visualize the data\n",
        "plt.imshow(np.array(A).reshape(5,6))  # For A letter\n",
        "plt.show()\n",
        "plt.imshow(np.array(B).reshape(5,6))  # For B letter\n",
        "plt.show()\n",
        "plt.imshow(np.array(C).reshape(5,6))  # For C letter\n",
        "plt.show()\n"
      ]
    },
    {
      "cell_type": "code",
      "execution_count": null,
      "id": "6fbf2bb5-1384-4c90-bd38-d58210a8be0c",
      "metadata": {
        "id": "6fbf2bb5-1384-4c90-bd38-d58210a8be0c",
        "outputId": "d7b83dc3-9569-456b-e7a7-5c5c62fe1505"
      },
      "outputs": [
        {
          "name": "stdout",
          "output_type": "stream",
          "text": [
            "[array([[0, 0, 1, 1, 0, 0, 0, 1, 0, 0, 1, 0, 1, 1, 1, 1, 1, 1, 1, 0, 0, 0,\n",
            "        0, 1, 1, 0, 0, 0, 0, 1]]), array([[0, 1, 1, 1, 1, 0, 0, 1, 0, 0, 1, 0, 0, 1, 1, 1, 1, 0, 0, 1, 0, 0,\n",
            "        1, 0, 0, 1, 1, 1, 1, 0]]), array([[0, 1, 1, 1, 1, 0, 0, 1, 0, 0, 0, 0, 0, 1, 0, 0, 0, 0, 0, 1, 0, 0,\n",
            "        0, 0, 0, 1, 1, 1, 1, 0]])] \n",
            "\n",
            " [[1 0 0]\n",
            " [0 1 0]\n",
            " [0 0 1]]\n"
          ]
        }
      ],
      "source": [
        "# convert data and labels into numpy array\n",
        "x = [np.array(A).reshape(1,30), np.array(B).reshape(1,30), np.array(C).reshape(1,30)]\n",
        "y = np.array(y)\n",
        "\n",
        "print(x, \"\\n\\n\", y)"
      ]
    },
    {
      "cell_type": "code",
      "execution_count": null,
      "id": "d84ef738-6c2a-4593-8c4f-8650e738cc36",
      "metadata": {
        "id": "d84ef738-6c2a-4593-8c4f-8650e738cc36"
      },
      "outputs": [],
      "source": [
        "# input (1,30)\n",
        "# hidden(1,5)\n",
        "# output(3,3)"
      ]
    },
    {
      "cell_type": "code",
      "execution_count": null,
      "id": "c9526cb5-e9f7-42be-a42b-befcafc33f94",
      "metadata": {
        "id": "c9526cb5-e9f7-42be-a42b-befcafc33f94"
      },
      "outputs": [],
      "source": [
        "# activation function\n",
        "\n",
        "def sigmoid(x):\n",
        "    return (1/(1+np.exp(-x)))"
      ]
    },
    {
      "cell_type": "code",
      "execution_count": null,
      "id": "ad0aecba-8bce-4552-96d0-5de2c9612272",
      "metadata": {
        "id": "ad0aecba-8bce-4552-96d0-5de2c9612272"
      },
      "outputs": [],
      "source": [
        "# creating feed forward NN\n",
        "def f_forward(x,w1,w2):\n",
        "    # hidden layer\n",
        "    z1 = x.dot(w1)\n",
        "    a1 = sigmoid(z1)\n",
        "\n",
        "    #output layer\n",
        "    z2 = a1.dot(w2)\n",
        "    a2 = sigmoid(z2)\n",
        "    return(a2)"
      ]
    },
    {
      "cell_type": "code",
      "execution_count": null,
      "id": "6db88836-075c-4c19-b769-50915d741d9e",
      "metadata": {
        "id": "6db88836-075c-4c19-b769-50915d741d9e"
      },
      "outputs": [],
      "source": [
        "# initialize the weights\n",
        "def generate_wt(x,y):\n",
        "    l = []\n",
        "    for i in range(x*y):\n",
        "        l.append(np.random.randn())\n",
        "    return(np.array(l).reshape(x,y))"
      ]
    },
    {
      "cell_type": "code",
      "execution_count": null,
      "id": "f2f96dce-7bee-4cd0-8917-b898291d0fcd",
      "metadata": {
        "id": "f2f96dce-7bee-4cd0-8917-b898291d0fcd"
      },
      "outputs": [],
      "source": [
        "def loss(out, Y):\n",
        "    s = (np.square(out - Y))\n",
        "    s = np.sum(s) / len(Y)\n",
        "    return s"
      ]
    },
    {
      "cell_type": "code",
      "execution_count": null,
      "id": "251a2da9-9800-4a4f-97a5-ab98b6857521",
      "metadata": {
        "id": "251a2da9-9800-4a4f-97a5-ab98b6857521"
      },
      "outputs": [],
      "source": [
        "def back_prop(x, y, w1, w2, alpha):\n",
        "    # Hidden layer\n",
        "    z1 = x.dot(w1)\n",
        "    a1 = sigmoid(z1)\n",
        "\n",
        "    # Output layer\n",
        "    z2 = a1.dot(w2)\n",
        "    a2 = sigmoid(z2)\n",
        "\n",
        "    # Gradients\n",
        "    d2 = a2 - y\n",
        "    d1 = np.multiply((w2.dot(d2.T)).T, np.multiply(a1, 1 - a1))\n",
        "\n",
        "    w1_adj = x.reshape(-1,1).dot(d1.reshape(1,-1))\n",
        "    w2_adj = a1.reshape(-1,1).dot(d2.reshape(1,-1))\n",
        "\n",
        "    w1 = w1 - alpha * w1_adj\n",
        "    w2 = w2 - alpha * w2_adj\n",
        "\n",
        "    return w1, w2\n"
      ]
    },
    {
      "cell_type": "code",
      "execution_count": null,
      "id": "9a9c5f97-ad9e-4cb2-a603-2cb60a154ccf",
      "metadata": {
        "id": "9a9c5f97-ad9e-4cb2-a603-2cb60a154ccf"
      },
      "outputs": [],
      "source": [
        "def train(x, Y, w1, w2, alpha=0.01, epoch=10):\n",
        "    acc = []\n",
        "    losses = []\n",
        "    for j in range(epoch):\n",
        "        l = []\n",
        "        for i in range(len(x)):\n",
        "            out = f_forward(x[i], w1, w2)\n",
        "            l.append(loss(out, Y[i]))\n",
        "            w1, w2 = back_prop(x[i], Y[i], w1, w2, alpha)\n",
        "        avg_loss = sum(l)/len(x)\n",
        "        accuracy = (1 - avg_loss) * 100\n",
        "        print(\"Epoch:\", j+1, \"acc:\", accuracy)\n",
        "        acc.append(accuracy)\n",
        "        losses.append(avg_loss)\n",
        "    return acc, losses, w1, w2"
      ]
    },
    {
      "cell_type": "code",
      "execution_count": null,
      "id": "6b3d1934-7bc4-4f22-b351-53e54bb4fe35",
      "metadata": {
        "id": "6b3d1934-7bc4-4f22-b351-53e54bb4fe35"
      },
      "outputs": [],
      "source": [
        "def predict(x,w1,w2):\n",
        "    Out = f_forward(x,w1,w2)\n",
        "    maxm =0\n",
        "    k=0\n",
        "    for i in range(len(Out[0])):\n",
        "        if(maxm<Out[0][i]):\n",
        "            maxm = Out[0][i]\n",
        "            k = i\n",
        "    if(k == 0):\n",
        "        print(\"Image is of letter A\")\n",
        "    elif(k == 1):\n",
        "        print(\"Image is of letter B\")\n",
        "    else:\n",
        "        print(\"Image is of letter C\")\n",
        "    plt.imshow(x.reshape(5,6))\n",
        "    plt.show()"
      ]
    },
    {
      "cell_type": "code",
      "execution_count": null,
      "id": "ef2bdb4f-5382-410f-b035-56f46d27738a",
      "metadata": {
        "id": "ef2bdb4f-5382-410f-b035-56f46d27738a",
        "outputId": "8dbfdc60-e124-4c10-939f-e47fbe1d45bc"
      },
      "outputs": [
        {
          "name": "stdout",
          "output_type": "stream",
          "text": [
            "[[-1.9690233  -0.18475348 -0.49591108  0.51828657 -1.53427808]\n",
            " [-0.08144736  1.03407922 -0.44931407  1.05908336  1.55500158]\n",
            " [ 1.57923888 -0.46809393 -0.83378446 -0.55702594 -0.99395856]\n",
            " [ 0.82655458  0.78678026 -0.07350172  0.33177065  1.76289859]\n",
            " [ 0.58197016  0.30241163  0.05384852  0.70035293  0.97813214]\n",
            " [ 0.41939906  1.38805626  0.55912835  0.29761592  1.653063  ]\n",
            " [ 1.286551   -0.9112848  -0.13115055  1.58962157 -0.20741411]\n",
            " [ 0.60808429 -1.90518185 -0.32600858  0.86865524 -1.72565929]\n",
            " [ 0.64293551 -0.95581626  0.5545294  -0.5145336  -1.65880384]\n",
            " [ 0.19543113 -0.37350708 -1.29825449  0.39467761 -0.19923567]\n",
            " [ 0.96200561  2.82005605  1.68311517  1.14520083 -0.31333616]\n",
            " [ 0.8314749  -0.56667495 -2.28808424 -0.45765985 -0.44167556]\n",
            " [-1.29953417  0.19855532 -0.37871999 -1.17636408  1.36899817]\n",
            " [ 0.05201929 -1.09660215 -0.47879037  0.43355832  1.36025373]\n",
            " [ 1.81403966 -1.99134791  0.83756789  0.71884305  0.38949531]\n",
            " [-0.75105487  0.02832853  0.30158574 -0.52112693 -1.21221443]\n",
            " [-1.05057162 -0.32671325 -0.71217748  0.92742899 -0.4313679 ]\n",
            " [-0.65021097  0.99599761  1.17958743  0.47719293  1.17639869]\n",
            " [-0.3113934  -2.53808079  1.30802475  0.86096173 -0.15546471]\n",
            " [ 0.02677418  0.89507827  0.25345334 -1.00895542 -0.87275831]\n",
            " [ 1.55455684 -1.60291959  0.46862142  0.06098283 -0.17774071]\n",
            " [ 0.57428916  1.18333915 -0.05398405  0.4678607  -0.16325803]\n",
            " [-0.92753123 -0.72511761  1.24120355  0.27398916  0.12663484]\n",
            " [-0.67305223 -0.41493457  0.31267693  1.09341397  0.83572566]\n",
            " [ 0.42183595 -2.07840611 -0.24710397 -0.24341796  0.20295152]\n",
            " [-0.12742884  0.58633688 -1.7376244   1.23884905 -0.73273792]\n",
            " [-0.81576687  0.37182396  1.2046446  -0.85140454  2.87538757]\n",
            " [-0.04434715  0.52714869  0.38324738 -1.92133855  0.20487839]\n",
            " [ 0.30786615 -0.93558513  0.05609604 -0.65202495 -1.48922404]\n",
            " [-1.56323106 -0.6513159  -0.50546892 -0.28898233  1.50206296]] \n",
            " [[-0.94585286 -0.35464748 -2.1204229 ]\n",
            " [-0.03887795  0.9956945   0.81420642]\n",
            " [-0.55366191  0.01175435  0.38033542]\n",
            " [-0.2111617   0.46936803 -0.05809169]\n",
            " [-0.79313178 -0.24804122  2.18398556]]\n"
          ]
        }
      ],
      "source": [
        "w1 = generate_wt(30,5)\n",
        "w2 = generate_wt(5,3)\n",
        "print(w1, \"\\n\", w2)\n"
      ]
    },
    {
      "cell_type": "code",
      "execution_count": null,
      "id": "74a8d1d0-2d46-48d4-847b-a18f371cdea4",
      "metadata": {
        "id": "74a8d1d0-2d46-48d4-847b-a18f371cdea4",
        "outputId": "f6c2ed04-a6db-426e-d727-cc47aaa810d3"
      },
      "outputs": [
        {
          "name": "stdout",
          "output_type": "stream",
          "text": [
            "Epoch: 1 acc: 70.14860256974774\n",
            "Epoch: 2 acc: 72.95395422179327\n",
            "Epoch: 3 acc: 75.16263347128394\n",
            "Epoch: 4 acc: 76.82624134351687\n",
            "Epoch: 5 acc: 78.11877241317792\n",
            "Epoch: 6 acc: 79.18889409912217\n",
            "Epoch: 7 acc: 80.12972153239528\n",
            "Epoch: 8 acc: 80.99400046203385\n",
            "Epoch: 9 acc: 81.81016789589431\n",
            "Epoch: 10 acc: 82.59258276737816\n",
            "Epoch: 11 acc: 83.34754500058568\n",
            "Epoch: 12 acc: 84.0768684412369\n",
            "Epoch: 13 acc: 84.78003800812677\n",
            "Epoch: 14 acc: 85.45551582776869\n",
            "Epoch: 15 acc: 86.10152620431779\n",
            "Epoch: 16 acc: 86.71652115549054\n",
            "Epoch: 17 acc: 87.2994465520586\n",
            "Epoch: 18 acc: 87.84987478450348\n",
            "Epoch: 19 acc: 88.36803826403184\n",
            "Epoch: 20 acc: 88.8547849744092\n",
            "Epoch: 21 acc: 89.31147635738617\n",
            "Epoch: 22 acc: 89.7398511614992\n",
            "Epoch: 23 acc: 90.1418800168809\n",
            "Epoch: 24 acc: 90.51963171976587\n",
            "Epoch: 25 acc: 90.87516467903272\n",
            "Epoch: 26 acc: 91.21044867994836\n",
            "Epoch: 27 acc: 91.527315597813\n",
            "Epoch: 28 acc: 91.82743397142991\n",
            "Epoch: 29 acc: 92.11230113259941\n",
            "Epoch: 30 acc: 92.38324700032929\n",
            "Epoch: 31 acc: 92.64144481132037\n",
            "Epoch: 32 acc: 92.88792536931967\n",
            "Epoch: 33 acc: 93.12359254407863\n",
            "Epoch: 34 acc: 93.3492386299603\n",
            "Epoch: 35 acc: 93.56555878975574\n",
            "Epoch: 36 acc: 93.77316421073414\n",
            "Epoch: 37 acc: 93.97259384532764\n",
            "Epoch: 38 acc: 94.16432474850205\n",
            "Epoch: 39 acc: 94.34878109607013\n",
            "Epoch: 40 acc: 94.52634199979194\n",
            "Epoch: 41 acc: 94.69734824377984\n",
            "Epoch: 42 acc: 94.86210806355638\n",
            "Epoch: 43 acc: 95.02090208065155\n",
            "Epoch: 44 acc: 95.17398749546496\n",
            "Epoch: 45 acc: 95.32160163103791\n",
            "Epoch: 46 acc: 95.46396491109263\n",
            "Epoch: 47 acc: 95.60128334735522\n",
            "Epoch: 48 acc: 95.73375060368261\n",
            "Epoch: 49 acc: 95.86154969768347\n",
            "Epoch: 50 acc: 95.98485439419424\n",
            "Epoch: 51 acc: 96.10383033903005\n",
            "Epoch: 52 acc: 96.2186359758191\n",
            "Epoch: 53 acc: 96.32942328343256\n",
            "Epoch: 54 acc: 96.43633836655866\n",
            "Epoch: 55 acc: 96.53952192736477\n",
            "Epoch: 56 acc: 96.63910964197461\n",
            "Epoch: 57 acc: 96.735232461681\n",
            "Epoch: 58 acc: 96.82801685542567\n",
            "Epoch: 59 acc: 96.91758500710495\n",
            "Epoch: 60 acc: 97.00405497868631\n",
            "Epoch: 61 acc: 97.08754084792471\n",
            "Epoch: 62 acc: 97.16815282761488\n",
            "Epoch: 63 acc: 97.2459973717746\n",
            "Epoch: 64 acc: 97.32117727288555\n",
            "Epoch: 65 acc: 97.393791753288\n",
            "Epoch: 66 acc: 97.46393655299913\n",
            "Epoch: 67 acc: 97.5317040155686\n",
            "Epoch: 68 acc: 97.59718317307272\n",
            "Epoch: 69 acc: 97.66045983095397\n",
            "Epoch: 70 acc: 97.72161665311256\n",
            "Epoch: 71 acc: 97.78073324743576\n",
            "Epoch: 72 acc: 97.83788625178906\n",
            "Epoch: 73 acc: 97.89314942038139\n",
            "Epoch: 74 acc: 97.94659371034135\n",
            "Epoch: 75 acc: 97.9982873682954\n",
            "Epoch: 76 acc: 98.04829601671426\n",
            "Epoch: 77 acc: 98.0966827397854\n",
            "Epoch: 78 acc: 98.14350816857264\n",
            "Epoch: 79 acc: 98.18883056523498\n",
            "Epoch: 80 acc: 98.23270590609327\n",
            "Epoch: 81 acc: 98.2751879633538\n",
            "Epoch: 82 acc: 98.31632838531866\n",
            "Epoch: 83 acc: 98.35617677493622\n",
            "Epoch: 84 acc: 98.3947807665664\n",
            "Epoch: 85 acc: 98.43218610085721\n",
            "Epoch: 86 acc: 98.46843669764907\n",
            "Epoch: 87 acc: 98.50357472684253\n",
            "Epoch: 88 acc: 98.53764067718205\n",
            "Epoch: 89 acc: 98.570673422924\n",
            "Epoch: 90 acc: 98.6027102883717\n",
            "Epoch: 91 acc: 98.63378711027171\n",
            "Epoch: 92 acc: 98.66393829807791\n",
            "Epoch: 93 acc: 98.69319689209809\n",
            "Epoch: 94 acc: 98.72159461954698\n",
            "Epoch: 95 acc: 98.7491619485362\n",
            "Epoch: 96 acc: 98.77592814003762\n",
            "Epoch: 97 acc: 98.8019212978616\n",
            "Epoch: 98 acc: 98.82716841669568\n",
            "Epoch: 99 acc: 98.85169542825216\n",
            "Epoch: 100 acc: 98.87552724557597\n"
          ]
        }
      ],
      "source": [
        "acc, loss, w1, w2, = train(x,y,w1,w2, 0.1,100)"
      ]
    },
    {
      "cell_type": "code",
      "execution_count": null,
      "id": "b0377bb8-a511-4f8e-80af-cafe12d7e5f0",
      "metadata": {
        "id": "b0377bb8-a511-4f8e-80af-cafe12d7e5f0",
        "outputId": "e80204e7-01a9-4c7f-86e5-60f6cd722b3c"
      },
      "outputs": [
        {
          "data": {
            "image/png": "[encoded data removed]",
            "text/plain": [
              "<Figure size 640x480 with 1 Axes>"
            ]
          },
          "metadata": {},
          "output_type": "display_data"
        }
      ],
      "source": [
        "import matplotlib.pyplot as plt1\n",
        "\n",
        "# plotting accuracy\n",
        "plt1.plot(acc)\n",
        "plt.ylabel('Accuracy')\n",
        "plt.xlabel(\"Epochs:\")\n",
        "plt1.show()"
      ]
    },
    {
      "cell_type": "code",
      "execution_count": null,
      "id": "4aec52a0-f312-4db8-83c5-4a46874cfa1d",
      "metadata": {
        "id": "4aec52a0-f312-4db8-83c5-4a46874cfa1d",
        "outputId": "ad930eed-ad7e-45e3-eca2-3f5bcf26f0a9"
      },
      "outputs": [
        {
          "data": {
            "image/png": "[encoded data removed]",
            "text/plain": [
              "<Figure size 640x480 with 1 Axes>"
            ]
          },
          "metadata": {},
          "output_type": "display_data"
        }
      ],
      "source": [
        "# plt loss\n",
        "plt1.plot(loss)\n",
        "plt.ylabel(\"Loss\")\n",
        "plt.xlabel(\"Epochs:\")\n",
        "plt1.show()"
      ]
    },
    {
      "cell_type": "code",
      "execution_count": null,
      "id": "e2c8342c-ac90-4f7d-afe9-b21a8621adb5",
      "metadata": {
        "id": "e2c8342c-ac90-4f7d-afe9-b21a8621adb5",
        "outputId": "9a317b51-2e43-4e8a-cd18-8b561a112f8e"
      },
      "outputs": [
        {
          "name": "stdout",
          "output_type": "stream",
          "text": [
            "[[-1.9690233  -0.18475348 -0.49591108  0.51828657 -1.53427808]\n",
            " [-0.14002714  1.36746756 -0.52398697  0.77932969  1.48529696]\n",
            " [ 1.71307767 -0.17842162 -0.8395331  -0.77973469 -0.92732751]\n",
            " [ 0.96039336  1.07645257 -0.07925036  0.10906191  1.82952964]\n",
            " [ 0.52339038  0.63579997 -0.02082438  0.42059926  0.90842752]\n",
            " [ 0.41939906  1.38805626  0.55912835  0.29761592  1.653063  ]\n",
            " [ 1.286551   -0.9112848  -0.13115055  1.58962157 -0.20741411]\n",
            " [ 0.74192307 -1.61550954 -0.33175722  0.6459465  -1.65902824]\n",
            " [ 0.64293551 -0.95581626  0.5545294  -0.5145336  -1.65880384]\n",
            " [ 0.19543113 -0.37350708 -1.29825449  0.39467761 -0.19923567]\n",
            " [ 1.19335582  3.02719472  1.88221512  1.32748419 -1.1046112 ]\n",
            " [ 0.8314749  -0.56667495 -2.28808424 -0.45765985 -0.44167556]\n",
            " [-1.10711561  0.1548393  -0.30979574 -1.11931915  1.50533383]\n",
            " [ 0.18585808 -0.80692983 -0.48453902  0.21084958  1.42688477]\n",
            " [ 2.04538987 -1.78420924  1.03666784  0.90112642 -0.40177972]\n",
            " [-0.51970466  0.2354672   0.50068569 -0.33884357 -2.00348946]\n",
            " [-0.81922141 -0.11957457 -0.51307753  1.10971235 -1.22264293]\n",
            " [-0.45779241  0.95228158  1.24851168  0.53423785  1.31273436]\n",
            " [-0.11897484 -2.58179681  1.376949    0.91800665 -0.01912904]\n",
            " [-0.0318056   1.22846661  0.17878044 -1.28870909 -0.94246293]\n",
            " [ 1.55455684 -1.60291959  0.46862142  0.06098283 -0.17774071]\n",
            " [ 0.57428916  1.18333915 -0.05398405  0.4678607  -0.16325803]\n",
            " [-0.88859958 -0.47426291  1.37137925  0.39922761 -0.80097586]\n",
            " [-0.48063366 -0.45865059  0.38160118  1.15045889  0.97206133]\n",
            " [ 0.61425452 -2.12212213 -0.17817972 -0.18637304  0.33928719]\n",
            " [-0.18600862  0.91972522 -1.8122973   0.95909538 -0.80244254]\n",
            " [-0.87434665  0.7052123   1.12997171 -1.13115821  2.80568295]\n",
            " [-0.10292693  0.86053702  0.30857449 -2.20109222  0.13517377]\n",
            " [ 0.24928637 -0.60219679 -0.01857686 -0.93177862 -1.55892866]\n",
            " [-1.37081249 -0.69503193 -0.43654467 -0.23193741  1.63839862]] \n",
            " [[-1.05249954 -1.02543679 -2.17154638]\n",
            " [-2.80959827  1.88636108  1.73048958]\n",
            " [ 0.82070326  0.70758887 -1.59362903]\n",
            " [ 1.7012338   0.48815282 -1.91444351]\n",
            " [ 0.52559151 -3.18474569  2.92724552]]\n"
          ]
        }
      ],
      "source": [
        "print(w1, \"\\n\", w2)"
      ]
    },
    {
      "cell_type": "code",
      "execution_count": null,
      "id": "616a7961-ad34-4584-85b1-89da70801364",
      "metadata": {
        "id": "616a7961-ad34-4584-85b1-89da70801364",
        "outputId": "e05a2fd8-b2d8-46e1-b6f7-f348fefb8dfa"
      },
      "outputs": [
        {
          "name": "stdout",
          "output_type": "stream",
          "text": [
            "Image is of letter A\n"
          ]
        },
        {
          "data": {
            "image/png": "[encoded data removed]",
            "text/plain": [
              "<Figure size 640x480 with 1 Axes>"
            ]
          },
          "metadata": {},
          "output_type": "display_data"
        }
      ],
      "source": [
        "predict(x[0], w1, w2)"
      ]
    },
    {
      "cell_type": "code",
      "execution_count": null,
      "id": "5f87e676-85ec-4791-9e59-c3c1ac6d34a5",
      "metadata": {
        "id": "5f87e676-85ec-4791-9e59-c3c1ac6d34a5",
        "outputId": "7d39bd87-c0a1-49ed-e3b8-14d1d30835d5"
      },
      "outputs": [
        {
          "name": "stdout",
          "output_type": "stream",
          "text": [
            "Image is of letter B\n"
          ]
        },
        {
          "data": {
            "image/png": "[encoded data removed]",
            "text/plain": [
              "<Figure size 640x480 with 1 Axes>"
            ]
          },
          "metadata": {},
          "output_type": "display_data"
        }
      ],
      "source": [
        "predict(x[1], w1, w2)"
      ]
    },
    {
      "cell_type": "code",
      "execution_count": null,
      "id": "e00b6dba-5513-4aba-9e20-f246e68718c5",
      "metadata": {
        "id": "e00b6dba-5513-4aba-9e20-f246e68718c5",
        "outputId": "519114e4-d1ba-4de7-a9dd-53e9e12c49e3"
      },
      "outputs": [
        {
          "name": "stdout",
          "output_type": "stream",
          "text": [
            "Image is of letter C\n"
          ]
        },
        {
          "data": {
            "image/png": "[encoded data removed]",
            "text/plain": [
              "<Figure size 640x480 with 1 Axes>"
            ]
          },
          "metadata": {},
          "output_type": "display_data"
        }
      ],
      "source": [
        "predict(x[2], w1, w2)"
      ]
    },
    {
      "cell_type": "code",
      "execution_count": null,
      "id": "65a1eb81-f09e-44be-9181-67e452e0bcc3",
      "metadata": {
        "id": "65a1eb81-f09e-44be-9181-67e452e0bcc3"
      },
      "outputs": [],
      "source": []
    },
    {
      "cell_type": "code",
      "execution_count": null,
      "id": "fa1a49af-b23a-490c-ba56-ff18dc8f0ff5",
      "metadata": {
        "id": "fa1a49af-b23a-490c-ba56-ff18dc8f0ff5"
      },
      "outputs": [],
      "source": []
    },
    {
      "cell_type": "code",
      "execution_count": null,
      "id": "add9e2bb-9393-4df5-aec3-2b5b68b3234f",
      "metadata": {
        "id": "add9e2bb-9393-4df5-aec3-2b5b68b3234f"
      },
      "outputs": [],
      "source": []
    }
  ],
  "metadata": {
    "kernelspec": {
      "display_name": "Python [conda env:base] *",
      "language": "python",
      "name": "conda-base-py"
    },
    "language_info": {
      "codemirror_mode": {
        "name": "ipython",
        "version": 3
      },
      "file_extension": ".py",
      "mimetype": "text/x-python",
      "name": "python",
      "nbconvert_exporter": "python",
      "pygments_lexer": "ipython3",
      "version": "3.12.7"
    },
    "colab": {
      "provenance": [],
      "include_colab_link": true
    }
  },
  "nbformat": 4,
  "nbformat_minor": 5
}