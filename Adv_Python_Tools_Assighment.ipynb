{
  "cells": [
    {
      "cell_type": "markdown",
      "metadata": {
        "id": "view-in-github",
        "colab_type": "text"
      },
      "source": [
        "<a href=\"https://colab.research.google.com/github/amityadav108/amityadav108/blob/main/Adv_Python_Tools_Assighment.ipynb\" target=\"_parent\"><img src=\"https://colab.research.google.com/assets/colab-badge.svg\" alt=\"Open In Colab\"/></a>"
      ]
    },
    {
      "cell_type": "markdown",
      "id": "ef5e1655-fa16-4ba4-a0e7-5a076a342024",
      "metadata": {
        "id": "ef5e1655-fa16-4ba4-a0e7-5a076a342024"
      },
      "source": [
        "# Assignment: 1 - Working with Numpy"
      ]
    },
    {
      "cell_type": "code",
      "execution_count": null,
      "id": "fad93c6a-0823-433b-a577-7d78b42469f7",
      "metadata": {
        "id": "fad93c6a-0823-433b-a577-7d78b42469f7",
        "outputId": "620d5433-fdda-4da5-e4f6-b1b72baad16a"
      },
      "outputs": [
        {
          "name": "stdout",
          "output_type": "stream",
          "text": [
            "Requirement already satisfied: numpy in c:\\users\\samsung\\anaconda3\\lib\\site-packages (1.26.4)\n"
          ]
        }
      ],
      "source": [
        "# Step-1 Install Numpy using\n",
        "!pip install numpy\n"
      ]
    },
    {
      "cell_type": "code",
      "execution_count": null,
      "id": "d89599eb-6afa-461b-9f45-e146a82e3f31",
      "metadata": {
        "id": "d89599eb-6afa-461b-9f45-e146a82e3f31"
      },
      "outputs": [],
      "source": [
        "# Step-2 Import numpy\n",
        "import numpy as np"
      ]
    },
    {
      "cell_type": "raw",
      "id": "de0446fc-ecce-4c0c-ae9b-de1b64afcc1c",
      "metadata": {
        "id": "de0446fc-ecce-4c0c-ae9b-de1b64afcc1c"
      },
      "source": [
        "# 1. Create a 1D NumPy array with integers from 1 to 20. Perform the following operations:\n",
        "  a. Calculate the sum, mean, median, and standard deviation of the elements in the array.\n",
        "  b.  Find the indices of elements greater than 10 in the array."
      ]
    },
    {
      "cell_type": "markdown",
      "id": "cf51d7a6-db49-4284-ab44-39fe3f7bf654",
      "metadata": {
        "id": "cf51d7a6-db49-4284-ab44-39fe3f7bf654"
      },
      "source": [
        "### Task 1: 1D NumPy Array Operations\n",
        "  * Create a 1D NumPy array with integers from 1 to 20"
      ]
    },
    {
      "cell_type": "code",
      "execution_count": null,
      "id": "8a97ae22-13e9-42f4-852d-d673b5527eca",
      "metadata": {
        "id": "8a97ae22-13e9-42f4-852d-d673b5527eca",
        "outputId": "f2df7865-2238-4fa4-bdf3-2ffe33ed1790"
      },
      "outputs": [
        {
          "name": "stdout",
          "output_type": "stream",
          "text": [
            "1D array:  [ 1  2  3  4  5  6  7  8  9 10 11 12 13 14 15 16 17 18 19 20]\n"
          ]
        }
      ],
      "source": [
        "arr = np.arange(1,21)\n",
        "print(\"1D array: \", arr)"
      ]
    },
    {
      "cell_type": "markdown",
      "id": "d7668ea3-9de6-4cf1-bb07-adb911e0b59b",
      "metadata": {
        "id": "d7668ea3-9de6-4cf1-bb07-adb911e0b59b"
      },
      "source": [
        "### a: Operations performs\n"
      ]
    },
    {
      "cell_type": "code",
      "execution_count": null,
      "id": "0f2fd53e-9ce0-4cf0-996c-02232b7200aa",
      "metadata": {
        "id": "0f2fd53e-9ce0-4cf0-996c-02232b7200aa",
        "outputId": "c5bef1d3-df11-4f58-82ef-b3a252ff5d11"
      },
      "outputs": [
        {
          "name": "stdout",
          "output_type": "stream",
          "text": [
            "Sum:  210\n",
            "Mean:  10.5\n",
            "Median:  10.5\n",
            "Standard Deviation:  5.766281297335398\n"
          ]
        }
      ],
      "source": [
        "print(\"Sum: \", np.sum(arr))\n",
        "print(\"Mean: \", np.mean(arr))\n",
        "print(\"Median: \", np.median(arr))\n",
        "print(\"Standard Deviation: \", np.std(arr))"
      ]
    },
    {
      "cell_type": "markdown",
      "id": "e736573f-9371-4933-9e7a-08dcf9f17a7b",
      "metadata": {
        "id": "e736573f-9371-4933-9e7a-08dcf9f17a7b"
      },
      "source": [
        "### b: Find indices of element greater then 10"
      ]
    },
    {
      "cell_type": "code",
      "execution_count": null,
      "id": "9eed2f32-4743-4ede-88b6-fa03eb35cb6b",
      "metadata": {
        "id": "9eed2f32-4743-4ede-88b6-fa03eb35cb6b",
        "outputId": "7b60080f-636c-433d-d163-b322222646f4"
      },
      "outputs": [
        {
          "name": "stdout",
          "output_type": "stream",
          "text": [
            "Indices of elements > 10 : (array([10, 11, 12, 13, 14, 15, 16, 17, 18, 19], dtype=int64),)\n"
          ]
        }
      ],
      "source": [
        "indices = np.where(arr>10)\n",
        "print(\"Indices of elements > 10 :\", indices)"
      ]
    },
    {
      "cell_type": "markdown",
      "id": "baae73d5-839f-432f-ab98-f34af06f35fe",
      "metadata": {
        "id": "baae73d5-839f-432f-ab98-f34af06f35fe"
      },
      "source": [
        "## Explanation :\n",
        "* \"We used np.arange(1,21) to generate integers from 1 to 20.\"\n",
        "* \"We used the standard statistical functions (sum, mean, median, std), it provides quick insights into the data.\"\n",
        "* \"np.where is used to find positions of elements matching a condition.\""
      ]
    },
    {
      "cell_type": "raw",
      "id": "ccbc22f8-58c5-4b02-a3d8-b47bf45282fc",
      "metadata": {
        "id": "ccbc22f8-58c5-4b02-a3d8-b47bf45282fc"
      },
      "source": [
        "# 2. Create a 2D NumPy array of shape 4 X 4 with numbers ranging from 1 to 16.\n",
        "  a. Print the array.\n",
        "  b. Find the transpose of the array.\n",
        "  c. Calculate the row-wise and column-wise sums of the array.\n"
      ]
    },
    {
      "cell_type": "markdown",
      "id": "4af2e297-64ef-4696-9395-42f08612945a",
      "metadata": {
        "id": "4af2e297-64ef-4696-9395-42f08612945a"
      },
      "source": [
        "### Task 2: 2D Array Operations\n",
        "* Create a 4×4 2D array with numbers from 1 to 16"
      ]
    },
    {
      "cell_type": "code",
      "execution_count": null,
      "id": "204afab0-7e52-4df3-9164-12308824d685",
      "metadata": {
        "id": "204afab0-7e52-4df3-9164-12308824d685",
        "outputId": "6ded1b79-02bd-40fa-e910-f77b69ccc168"
      },
      "outputs": [
        {
          "name": "stdout",
          "output_type": "stream",
          "text": [
            "2D Array: \n",
            " [[ 1  2  3  4]\n",
            " [ 5  6  7  8]\n",
            " [ 9 10 11 12]\n",
            " [13 14 15 16]]\n"
          ]
        }
      ],
      "source": [
        "# a: print the array\n",
        "arr2d =np.arange(1,17).reshape(4,4)\n",
        "print(\"2D Array: \\n\", arr2d)"
      ]
    },
    {
      "cell_type": "markdown",
      "id": "630721b0-024e-4964-b7c3-6940ff518b68",
      "metadata": {
        "id": "630721b0-024e-4964-b7c3-6940ff518b68"
      },
      "source": [
        "#### Transpose of the array"
      ]
    },
    {
      "cell_type": "code",
      "execution_count": null,
      "id": "a47be58a-5512-47e0-b758-ddc71c7cdff9",
      "metadata": {
        "id": "a47be58a-5512-47e0-b758-ddc71c7cdff9",
        "outputId": "68c67d1c-b6b0-4646-a6b2-72274abee529"
      },
      "outputs": [
        {
          "name": "stdout",
          "output_type": "stream",
          "text": [
            "Transpose: \n",
            " [[ 1  5  9 13]\n",
            " [ 2  6 10 14]\n",
            " [ 3  7 11 15]\n",
            " [ 4  8 12 16]]\n"
          ]
        }
      ],
      "source": [
        "# b: Transpose the array\n",
        "print(\"Transpose: \\n\", arr2d.T)"
      ]
    },
    {
      "cell_type": "markdown",
      "id": "30a5d230-89a8-4f04-bd09-6b01fbecf7a7",
      "metadata": {
        "id": "30a5d230-89a8-4f04-bd09-6b01fbecf7a7"
      },
      "source": [
        "#### Row-wise and column-wise Sum"
      ]
    },
    {
      "cell_type": "code",
      "execution_count": null,
      "id": "88a8f624-3fcb-49c5-b7df-350c9915d9a2",
      "metadata": {
        "id": "88a8f624-3fcb-49c5-b7df-350c9915d9a2",
        "outputId": "78d07309-2ea3-40ac-fb14-ee322a69bb29"
      },
      "outputs": [
        {
          "name": "stdout",
          "output_type": "stream",
          "text": [
            "Row-wise sum:  [10 26 42 58]\n",
            "Column-wise sum:  [28 32 36 40]\n"
          ]
        }
      ],
      "source": [
        "print(\"Row-wise sum: \", np.sum(arr2d, axis=1))\n",
        "print(\"Column-wise sum: \", np.sum(arr2d, axis = 0))"
      ]
    },
    {
      "cell_type": "markdown",
      "id": "eb447920-ce86-4172-9baf-8153d0720325",
      "metadata": {
        "id": "eb447920-ce86-4172-9baf-8153d0720325"
      },
      "source": [
        "## Explanation :\n",
        "* \"reshape(4,4) is used to convert a 1D array into 4x4 shape.\"\n",
        "* \".T or np.transpose() helps switch rows with columns.\"\n",
        "* \"axis = 1 for row-wise operations, axis = 0 for column-wise.\""
      ]
    },
    {
      "cell_type": "raw",
      "id": "4a46decb-cb44-44c0-a6d4-5603b6562d4a",
      "metadata": {
        "id": "4a46decb-cb44-44c0-a6d4-5603b6562d4a"
      },
      "source": [
        "# 3. Create two 3 X 3 arrays filled with random integers between 1 and 20.\n",
        "  a. Perform element-wise addition, subtraction, and multiplication.\n",
        "  b. Compute the dot product of the two arrays.\n"
      ]
    },
    {
      "cell_type": "markdown",
      "id": "14b89055-d6fe-43b2-90d4-75635ecf303c",
      "metadata": {
        "id": "14b89055-d6fe-43b2-90d4-75635ecf303c"
      },
      "source": [
        "## Task:3 - Random 3×3 Arrays\n",
        "* create two 3×3 arrays of random integers (1–20)"
      ]
    },
    {
      "cell_type": "code",
      "execution_count": null,
      "id": "25804e21-337c-4be2-8e5b-129223ce8e14",
      "metadata": {
        "id": "25804e21-337c-4be2-8e5b-129223ce8e14",
        "outputId": "b86d07ed-8b25-4f1c-d6dd-14669c83c8aa"
      },
      "outputs": [
        {
          "name": "stdout",
          "output_type": "stream",
          "text": [
            "Array a: \n",
            " [[16  2 20]\n",
            " [ 4  2 12]\n",
            " [ 8  8 19]]\n",
            "Array b: \n",
            " [[11  8  5]\n",
            " [20 16 20]\n",
            " [14  5  1]]\n"
          ]
        }
      ],
      "source": [
        "a = np.random.randint(1,21, size = (3,3))\n",
        "b = np.random.randint(1,21, size = (3,3))\n",
        "print(\"Array a: \\n\", a)\n",
        "print(\"Array b: \\n\", b)"
      ]
    },
    {
      "cell_type": "code",
      "execution_count": null,
      "id": "ddf6906e-ee22-48e9-86dc-471f2899658a",
      "metadata": {
        "id": "ddf6906e-ee22-48e9-86dc-471f2899658a",
        "outputId": "8e1f7721-c54d-4668-cf67-c7ee8b994032"
      },
      "outputs": [
        {
          "name": "stdout",
          "output_type": "stream",
          "text": [
            "Addition: \n",
            " [[27 10 25]\n",
            " [24 18 32]\n",
            " [22 13 20]]\n",
            "Substraction: \n",
            " [[  5  -6  15]\n",
            " [-16 -14  -8]\n",
            " [ -6   3  18]]\n",
            "Multiplication: \n",
            " [[176  16 100]\n",
            " [ 80  32 240]\n",
            " [112  40  19]]\n"
          ]
        }
      ],
      "source": [
        "# a: Element wise opertions\n",
        "print(\"Addition: \\n\", a+b)\n",
        "print(\"Substraction: \\n\", a-b)\n",
        "print(\"Multiplication: \\n\", a*b)"
      ]
    },
    {
      "cell_type": "code",
      "execution_count": null,
      "id": "d577e114-4f06-41f3-9015-370caeb72589",
      "metadata": {
        "id": "d577e114-4f06-41f3-9015-370caeb72589",
        "outputId": "9b9fb474-f728-4cf4-f7c9-868b92a7a822"
      },
      "outputs": [
        {
          "name": "stdout",
          "output_type": "stream",
          "text": [
            "Dot Product: \n",
            " [[496 260 140]\n",
            " [252 124  72]\n",
            " [514 287 219]]\n"
          ]
        }
      ],
      "source": [
        "# b: Dot Products\n",
        "print(\"Dot Product: \\n\", np.dot(a,b))"
      ]
    },
    {
      "cell_type": "markdown",
      "id": "dfdd183f-4e42-4adc-b140-bc5fe980f359",
      "metadata": {
        "id": "dfdd183f-4e42-4adc-b140-bc5fe980f359"
      },
      "source": [
        "## Explanation\n",
        "* \"np.random.randint() is used to create arrays with random integers. \"\n",
        "* \"Element-wise opereations use +,- and *.\"\n",
        "* \"Dot product np.dot() computes matrix multiplication\""
      ]
    },
    {
      "cell_type": "raw",
      "id": "7a8610b4-f6af-40dd-a6ba-ac7db6955336",
      "metadata": {
        "id": "7a8610b4-f6af-40dd-a6ba-ac7db6955336"
      },
      "source": [
        "# 4. Reshape a 1D array of size 12 into a 3 X 4 2D array and slice the first two rows and last two columns."
      ]
    },
    {
      "cell_type": "markdown",
      "id": "9e816c43-2eca-4ed2-80a3-fe4ea38db604",
      "metadata": {
        "id": "9e816c43-2eca-4ed2-80a3-fe4ea38db604"
      },
      "source": [
        "## Task: 4- Reshape and slice\n",
        "* Reshape a 1D array of size 12 to 3×4"
      ]
    },
    {
      "cell_type": "code",
      "execution_count": null,
      "id": "a2d741ea-972c-4644-8eb5-269275e6fbd3",
      "metadata": {
        "id": "a2d741ea-972c-4644-8eb5-269275e6fbd3",
        "outputId": "1a9a08c5-0605-4283-d361-8873a47e4d7c"
      },
      "outputs": [
        {
          "name": "stdout",
          "output_type": "stream",
          "text": [
            "Reshaped 3×4 Array: \n",
            " [[ 1  2  3  4]\n",
            " [ 5  6  7  8]\n",
            " [ 9 10 11 12]]\n"
          ]
        }
      ],
      "source": [
        "array_1d = np.arange(1,13)\n",
        "reshaped = array_1d.reshape(3,4)\n",
        "print(\"Reshaped 3×4 Array: \\n\", reshaped)"
      ]
    },
    {
      "cell_type": "markdown",
      "id": "d5ed61e6-b19e-4964-88f6-7194188c7815",
      "metadata": {
        "id": "d5ed61e6-b19e-4964-88f6-7194188c7815"
      },
      "source": [
        "### Slice first two rows and last two columns"
      ]
    },
    {
      "cell_type": "code",
      "execution_count": null,
      "id": "4a5c2f4a-5715-4bc8-b07d-65ce022b6d59",
      "metadata": {
        "id": "4a5c2f4a-5715-4bc8-b07d-65ce022b6d59",
        "outputId": "0be84499-9e63-4d0c-aed1-d5bff5b5886f"
      },
      "outputs": [
        {
          "name": "stdout",
          "output_type": "stream",
          "text": [
            "Sliced Array (First Two Rows, Last Two columns ): \n",
            " [[3 4]\n",
            " [7 8]]\n"
          ]
        }
      ],
      "source": [
        "sliced  = reshaped[:2, -2:]\n",
        "print(\"Sliced Array (First Two Rows, Last Two columns ): \\n\", sliced)"
      ]
    },
    {
      "cell_type": "markdown",
      "id": "d8758149-546c-4199-91db-c8629951a3d0",
      "metadata": {
        "id": "d8758149-546c-4199-91db-c8629951a3d0"
      },
      "source": [
        "## Explanation\n",
        "* \"reshape(3,4) turns a 1D array into a 2D 3×4 array\"\n",
        "* \"[:2, -2:] sliced the first two rows and the last two columns using slicing syntax.\""
      ]
    },
    {
      "cell_type": "markdown",
      "id": "0f3571a2-b75b-4c77-84c1-648961339888",
      "metadata": {
        "id": "0f3571a2-b75b-4c77-84c1-648961339888"
      },
      "source": [
        "# Assignment 2 - Working with Pandas"
      ]
    },
    {
      "cell_type": "code",
      "execution_count": null,
      "id": "c7b15260-5e77-4d2e-945c-86cb28872b76",
      "metadata": {
        "id": "c7b15260-5e77-4d2e-945c-86cb28872b76",
        "outputId": "946d9029-a5cf-4d80-c445-bd5534fc7e85"
      },
      "outputs": [
        {
          "name": "stdout",
          "output_type": "stream",
          "text": [
            "Requirement already satisfied: pandas in c:\\users\\samsung\\anaconda3\\lib\\site-packages (2.2.2)\n",
            "Requirement already satisfied: numpy>=1.26.0 in c:\\users\\samsung\\anaconda3\\lib\\site-packages (from pandas) (1.26.4)\n",
            "Requirement already satisfied: python-dateutil>=2.8.2 in c:\\users\\samsung\\anaconda3\\lib\\site-packages (from pandas) (2.9.0.post0)\n",
            "Requirement already satisfied: pytz>=2020.1 in c:\\users\\samsung\\anaconda3\\lib\\site-packages (from pandas) (2024.1)\n",
            "Requirement already satisfied: tzdata>=2022.7 in c:\\users\\samsung\\anaconda3\\lib\\site-packages (from pandas) (2023.3)\n",
            "Requirement already satisfied: six>=1.5 in c:\\users\\samsung\\anaconda3\\lib\\site-packages (from python-dateutil>=2.8.2->pandas) (1.16.0)\n"
          ]
        }
      ],
      "source": [
        "# Step-1 Install Pandas using\n",
        "!pip install pandas"
      ]
    },
    {
      "cell_type": "code",
      "execution_count": null,
      "id": "42eca30e-876d-4dd6-871f-f0720c3cfe10",
      "metadata": {
        "id": "42eca30e-876d-4dd6-871f-f0720c3cfe10"
      },
      "outputs": [],
      "source": [
        "#step:2 - import pandas\n",
        "import pandas as pd"
      ]
    },
    {
      "cell_type": "raw",
      "id": "d67b8609-0ff5-4364-9a76-a577a9ece029",
      "metadata": {
        "id": "d67b8609-0ff5-4364-9a76-a577a9ece029"
      },
      "source": [
        "# 1. Create a DataFrame with the following data:\n",
        "  data = {\n",
        "      'Name': ['Alice', 'Bob', 'Charlie', 'Diana', 'Eve'],\n",
        "      'Age': [24, 27, 22, 32, 29],\n",
        "      'Department': ['HR', 'Finance', 'IT', 'Marketing', 'HR'],\n",
        "      'Salary': [45000, 54000, 50000, 62000, 47000]\n",
        "  }\n",
        "  a. Print the first five rows of the DataFrame.\n",
        "  b. Get the summary statistics of the 'Age' and 'Salary' columns.\n",
        "  c. Calculate the average salary of employees in the 'HR' department.\n",
        "2. Add a new column, 'Bonus', which is 10% of the salary.\n",
        "3. Filter the DataFrame to show employees aged between 25 and 30.\n",
        "4. Group the data by 'Department' and calculate the average salary for each department.\n",
        "5. Sort the DataFrame by 'Salary' in ascending order and save the result to a new CSV file."
      ]
    },
    {
      "cell_type": "code",
      "execution_count": null,
      "id": "2271c6b1-5ea3-4a36-970d-9d51840a5580",
      "metadata": {
        "id": "2271c6b1-5ea3-4a36-970d-9d51840a5580",
        "outputId": "24170d8d-89d2-46b1-8097-379e504c0630"
      },
      "outputs": [
        {
          "name": "stdout",
          "output_type": "stream",
          "text": [
            "      Name  Age Department  Salary\n",
            "0    Alice   24         HR   45000\n",
            "1      Bob   27    Finance   54000\n",
            "2  Charlie   22         IT   50000\n",
            "3    Diana   32  Marketing   62000\n",
            "4      Eve   29         HR   47000\n"
          ]
        }
      ],
      "source": [
        "# Create a DataFrame with the following data:\n",
        "data = {\n",
        "      'Name': ['Alice', 'Bob', 'Charlie', 'Diana', 'Eve'],\n",
        "      'Age': [24, 27, 22, 32, 29],\n",
        "      'Department': ['HR', 'Finance', 'IT', 'Marketing', 'HR'],\n",
        "      'Salary': [45000, 54000, 50000, 62000, 47000]\n",
        "  }\n",
        "# a: - Print the first five rows of the dataframe\n",
        "df = pd.DataFrame(data)\n",
        "print(df.head(5))"
      ]
    },
    {
      "cell_type": "code",
      "execution_count": null,
      "id": "208750b9-5954-44c1-a0f8-bfd5c7f9057d",
      "metadata": {
        "id": "208750b9-5954-44c1-a0f8-bfd5c7f9057d",
        "outputId": "69318359-9776-4c2f-8894-ce888b5328f4"
      },
      "outputs": [
        {
          "name": "stdout",
          "output_type": "stream",
          "text": [
            "             Age        Salary\n",
            "count   5.000000      5.000000\n",
            "mean   26.800000  51600.000000\n",
            "std     3.962323   6730.527468\n",
            "min    22.000000  45000.000000\n",
            "25%    24.000000  47000.000000\n",
            "50%    27.000000  50000.000000\n",
            "75%    29.000000  54000.000000\n",
            "max    32.000000  62000.000000\n"
          ]
        }
      ],
      "source": [
        "# b. Get the summary statistics of the 'Age' and 'Salary' columns.\n",
        "print(df[['Age', 'Salary']].describe())"
      ]
    },
    {
      "cell_type": "code",
      "execution_count": null,
      "id": "fc5503ec-aa70-4dee-a3c5-2b4c8f2d296e",
      "metadata": {
        "id": "fc5503ec-aa70-4dee-a3c5-2b4c8f2d296e",
        "outputId": "ea2628df-d38f-483c-a969-1025926f36c9"
      },
      "outputs": [
        {
          "name": "stdout",
          "output_type": "stream",
          "text": [
            "Average salary of HR:  46000.0\n"
          ]
        }
      ],
      "source": [
        "#  c. Calculate the average salary of employees in the 'HR' department.\n",
        "hr_avg_salary = df[df['Department'] == 'HR']['Salary'].mean()\n",
        "print(\"Average salary of HR: \", hr_avg_salary)"
      ]
    },
    {
      "cell_type": "markdown",
      "id": "f29ea096-829d-474c-9a55-0f36cd4de2b8",
      "metadata": {
        "id": "f29ea096-829d-474c-9a55-0f36cd4de2b8"
      },
      "source": [
        "## Explanation\n",
        "* df.head() return the first five rows of the DataFrame\n",
        "* describe() gives count, mean, min,max and percentiles of numeric columns, healping us understand the data distribution\n",
        "* We filter the DataFrame for 'HR' department and cop-mpute the mean of the 'Salary' column."
      ]
    },
    {
      "cell_type": "markdown",
      "id": "73f1e794-1dd1-4a2b-a7a6-beb68bf8b718",
      "metadata": {
        "id": "73f1e794-1dd1-4a2b-a7a6-beb68bf8b718"
      },
      "source": [
        "### Task:2 - Add a new column, 'Bonus', which is 10% of the salary.  "
      ]
    },
    {
      "cell_type": "code",
      "execution_count": null,
      "id": "3528e6a8-6db1-486b-814b-38ada095f47c",
      "metadata": {
        "id": "3528e6a8-6db1-486b-814b-38ada095f47c",
        "outputId": "49f4b7e8-0ac5-4a7f-c9f5-1bf72112f416"
      },
      "outputs": [
        {
          "name": "stdout",
          "output_type": "stream",
          "text": [
            "      Name  Age Department  Salary   Bonus\n",
            "0    Alice   24         HR   45000  4500.0\n",
            "1      Bob   27    Finance   54000  5400.0\n",
            "2  Charlie   22         IT   50000  5000.0\n",
            "3    Diana   32  Marketing   62000  6200.0\n",
            "4      Eve   29         HR   47000  4700.0\n"
          ]
        }
      ],
      "source": [
        "df['Bonus'] = df['Salary']*(10/100)\n",
        "print(df)"
      ]
    },
    {
      "cell_type": "markdown",
      "id": "bdc79c47-a567-482e-bace-ec7af8bce8f4",
      "metadata": {
        "id": "bdc79c47-a567-482e-bace-ec7af8bce8f4"
      },
      "source": [
        "## Explanation\n",
        " A new column Bonus is added using basic column-wise arithmetic. Pandas allows vectorized operations for efficient compution."
      ]
    },
    {
      "cell_type": "markdown",
      "id": "d990625f-b41b-4927-aa51-e6c1b505344d",
      "metadata": {
        "id": "d990625f-b41b-4927-aa51-e6c1b505344d"
      },
      "source": [
        "### Task:3 - Filter employees aged between 25 and 30"
      ]
    },
    {
      "cell_type": "code",
      "execution_count": null,
      "id": "dca06618-b5b4-4f73-a984-5c4cb74aa7b9",
      "metadata": {
        "id": "dca06618-b5b4-4f73-a984-5c4cb74aa7b9",
        "outputId": "74c1eeea-a236-4dbe-f463-29e4c70c825c"
      },
      "outputs": [
        {
          "name": "stdout",
          "output_type": "stream",
          "text": [
            "  Name  Age Department  Salary   Bonus\n",
            "1  Bob   27    Finance   54000  5400.0\n",
            "4  Eve   29         HR   47000  4700.0\n"
          ]
        }
      ],
      "source": [
        "filtered_df = df[(df['Age']>=25) & (df['Age']<=30)]\n",
        "print(filtered_df)"
      ]
    },
    {
      "cell_type": "markdown",
      "id": "da7a40ed-dc29-4585-bffa-5f9487f0ec1f",
      "metadata": {
        "id": "da7a40ed-dc29-4585-bffa-5f9487f0ec1f"
      },
      "source": [
        "## Explanation\n",
        " We apply conditional filtering using logical operators on the Age column to extract relevant rows."
      ]
    },
    {
      "cell_type": "markdown",
      "id": "bd6c6ce3-33d7-4f49-bd5d-2e6f3837dffc",
      "metadata": {
        "id": "bd6c6ce3-33d7-4f49-bd5d-2e6f3837dffc"
      },
      "source": [
        "### Task: 4- Group by 'Department' and calculate average salary"
      ]
    },
    {
      "cell_type": "code",
      "execution_count": null,
      "id": "2ec40f5c-86be-4028-a774-de82fcb28c76",
      "metadata": {
        "id": "2ec40f5c-86be-4028-a774-de82fcb28c76",
        "outputId": "5f3b445b-954b-4673-a97c-88d7e88d669d"
      },
      "outputs": [
        {
          "name": "stdout",
          "output_type": "stream",
          "text": [
            "Department\n",
            "Finance      54000.0\n",
            "HR           46000.0\n",
            "IT           50000.0\n",
            "Marketing    62000.0\n",
            "Name: Salary, dtype: float64\n"
          ]
        }
      ],
      "source": [
        "dept_avg_salary = df.groupby('Department')['Salary'].mean()\n",
        "print(dept_avg_salary)"
      ]
    },
    {
      "cell_type": "markdown",
      "id": "36e257a3-2af5-48f1-bad6-90a63819f0fd",
      "metadata": {
        "id": "36e257a3-2af5-48f1-bad6-90a63819f0fd"
      },
      "source": [
        "## Explanation\n",
        "groupby() is used to segment the data by department, followed by mean() to compute department-wise average salary."
      ]
    },
    {
      "cell_type": "markdown",
      "id": "9d912b10-b6b1-4fe4-81ba-8645cc0c5776",
      "metadata": {
        "id": "9d912b10-b6b1-4fe4-81ba-8645cc0c5776"
      },
      "source": [
        "### Task:5- Sort by 'Salary' and save to CSV"
      ]
    },
    {
      "cell_type": "code",
      "execution_count": null,
      "id": "01ce9989-27b5-4eb1-af93-4e8a54da46e5",
      "metadata": {
        "id": "01ce9989-27b5-4eb1-af93-4e8a54da46e5",
        "outputId": "8ce39448-3b8b-4c6d-e51f-9c6a801351fe"
      },
      "outputs": [
        {
          "name": "stdout",
          "output_type": "stream",
          "text": [
            "      Name  Age Department  Salary   Bonus\n",
            "0    Alice   24         HR   45000  4500.0\n",
            "4      Eve   29         HR   47000  4700.0\n",
            "2  Charlie   22         IT   50000  5000.0\n",
            "1      Bob   27    Finance   54000  5400.0\n",
            "3    Diana   32  Marketing   62000  6200.0\n"
          ]
        }
      ],
      "source": [
        "sorted_df = df.sort_values(by = 'Salary', ascending = True)\n",
        "print(sorted_df)\n",
        "\n",
        "# Save to CSV\n",
        "sorted_df.to_csv('sorted_emplyees.csv', index =False)\n"
      ]
    },
    {
      "cell_type": "markdown",
      "id": "74942104-c3d3-4ebf-840d-33f11ff1d8fe",
      "metadata": {
        "id": "74942104-c3d3-4ebf-840d-33f11ff1d8fe"
      },
      "source": [
        "## Explanation\n",
        "we use sort_values() to arange the DataFrame by salary and to_scv() to save it. Setting intex = False excludes the row numbers in the file."
      ]
    },
    {
      "cell_type": "markdown",
      "id": "560a8751-dacc-4e96-9f15-6beb7cc78d5f",
      "metadata": {
        "id": "560a8751-dacc-4e96-9f15-6beb7cc78d5f"
      },
      "source": [
        "# Assignment 3 - Working with Matplotlib"
      ]
    },
    {
      "cell_type": "code",
      "execution_count": null,
      "id": "95af9015-7425-48e8-9010-169d42f7a5bc",
      "metadata": {
        "id": "95af9015-7425-48e8-9010-169d42f7a5bc",
        "outputId": "de510f04-a5b5-43a4-e2e9-ef46735e03aa"
      },
      "outputs": [
        {
          "name": "stdout",
          "output_type": "stream",
          "text": [
            "Requirement already satisfied: matplotlib in c:\\users\\samsung\\anaconda3\\lib\\site-packages (3.9.2)\n",
            "Requirement already satisfied: contourpy>=1.0.1 in c:\\users\\samsung\\anaconda3\\lib\\site-packages (from matplotlib) (1.2.0)\n",
            "Requirement already satisfied: cycler>=0.10 in c:\\users\\samsung\\anaconda3\\lib\\site-packages (from matplotlib) (0.11.0)\n",
            "Requirement already satisfied: fonttools>=4.22.0 in c:\\users\\samsung\\anaconda3\\lib\\site-packages (from matplotlib) (4.51.0)\n",
            "Requirement already satisfied: kiwisolver>=1.3.1 in c:\\users\\samsung\\anaconda3\\lib\\site-packages (from matplotlib) (1.4.4)\n",
            "Requirement already satisfied: numpy>=1.23 in c:\\users\\samsung\\anaconda3\\lib\\site-packages (from matplotlib) (1.26.4)\n",
            "Requirement already satisfied: packaging>=20.0 in c:\\users\\samsung\\anaconda3\\lib\\site-packages (from matplotlib) (24.1)\n",
            "Requirement already satisfied: pillow>=8 in c:\\users\\samsung\\anaconda3\\lib\\site-packages (from matplotlib) (10.4.0)\n",
            "Requirement already satisfied: pyparsing>=2.3.1 in c:\\users\\samsung\\anaconda3\\lib\\site-packages (from matplotlib) (3.1.2)\n",
            "Requirement already satisfied: python-dateutil>=2.7 in c:\\users\\samsung\\anaconda3\\lib\\site-packages (from matplotlib) (2.9.0.post0)\n",
            "Requirement already satisfied: six>=1.5 in c:\\users\\samsung\\anaconda3\\lib\\site-packages (from python-dateutil>=2.7->matplotlib) (1.16.0)\n"
          ]
        }
      ],
      "source": [
        "# Step-1 Install Matplotlib using\n",
        "!pip install matplotlib"
      ]
    },
    {
      "cell_type": "code",
      "execution_count": null,
      "id": "739168b9-9dcc-4148-813b-b1f19b94d39d",
      "metadata": {
        "id": "739168b9-9dcc-4148-813b-b1f19b94d39d"
      },
      "outputs": [],
      "source": [
        "# Step- 2 import Matplotlib\n",
        "import matplotlib.pyplot as plt"
      ]
    },
    {
      "cell_type": "raw",
      "id": "eb8392ec-824b-47bd-88c2-a5a773609bba",
      "metadata": {
        "id": "eb8392ec-824b-47bd-88c2-a5a773609bba"
      },
      "source": [
        "# 1. Create a simple line plot for the following data:\n",
        "  x = [1, 2, 3, 4, 5]\n",
        "  y = [10, 15, 25, 30, 50]\n",
        "  a. Plot the data.\n",
        "  b. Customize the plot by adding a title, axis labels, and a grid.\n",
        "2. Create a bar graph to represent the marks scored by students in a subject:\n",
        "  students = ['John', 'Jane', 'Alice', 'Bob']\n",
        "  marks = [75, 85, 60, 90]\n",
        "  a. Plot the data as a bar graph.\n",
        "  b. Customize the colors and add a title.\n",
        "3. Create a pie chart to represent the percentage distribution of a company’s revenue from different regions:\n",
        "  regions = ['North America', 'Europe', 'Asia', 'Others']\n",
        "  revenue = [45, 25, 20, 10]\n",
        "  a. Create a pie chart with the region names as labels.\n",
        "  b. Highlight the region with the highest revenue.\n",
        "4. Generate a histogram to show the frequency distribution of randomly generated integers between 1 and 100 (sample size = 1000)."
      ]
    },
    {
      "cell_type": "markdown",
      "id": "e990850f-87d4-489d-8147-046c662507de",
      "metadata": {
        "id": "e990850f-87d4-489d-8147-046c662507de"
      },
      "source": [
        "### Task:1 Create a simple line plot"
      ]
    },
    {
      "cell_type": "code",
      "execution_count": null,
      "id": "86f8dad5-e2a3-470a-9aaf-c1aa5f107d32",
      "metadata": {
        "id": "86f8dad5-e2a3-470a-9aaf-c1aa5f107d32"
      },
      "outputs": [],
      "source": [
        "# The data is:\n",
        "x = [1,2,3,4,5]\n",
        "y = [10,15,25,30,50]"
      ]
    },
    {
      "cell_type": "code",
      "execution_count": null,
      "id": "16888c98-8db3-4d71-bbae-d0a5155f22f2",
      "metadata": {
        "id": "16888c98-8db3-4d71-bbae-d0a5155f22f2",
        "outputId": "12f3a664-41c6-4d84-ecfb-bd27fdfb503f"
      },
      "outputs": [
        {
          "data": {
            "image/png": "[encoded data removed]",
            "text/plain": [
              "<Figure size 640x480 with 1 Axes>"
            ]
          },
          "metadata": {},
          "output_type": "display_data"
        }
      ],
      "source": [
        "# a: plot the data\n",
        "plt.plot(x,y)\n",
        "plt.show()"
      ]
    },
    {
      "cell_type": "code",
      "execution_count": null,
      "id": "2e61e417-f663-4f7f-9841-005f64c167a7",
      "metadata": {
        "id": "2e61e417-f663-4f7f-9841-005f64c167a7",
        "outputId": "9a4689ee-14e1-4de0-85c6-40162d569afd"
      },
      "outputs": [
        {
          "data": {
            "image/png": "[encoded data removed]",
            "text/plain": [
              "<Figure size 640x480 with 1 Axes>"
            ]
          },
          "metadata": {},
          "output_type": "display_data"
        }
      ],
      "source": [
        "# b: customize the plot\n",
        "\n",
        "plt.plot(x,y,marker='o', linestyle = '--', color = 'green')\n",
        "plt.title(\"Simple Line Plot\")\n",
        "plt.xlabel(\"X-axis\")\n",
        "plt.ylabel(\"Y-axis\")\n",
        "plt.grid(True)\n",
        "plt.show()"
      ]
    },
    {
      "cell_type": "markdown",
      "id": "e4063300-779a-4454-814d-f142bae7ca87",
      "metadata": {
        "id": "e4063300-779a-4454-814d-f142bae7ca87"
      },
      "source": [
        "## Explanation\n",
        "we used plt.plot() to create a simple line graph and added customization with marker, title,axis, labels and grid() for better readability."
      ]
    },
    {
      "cell_type": "markdown",
      "id": "dfb8a7f3-afd8-42fb-9a15-09c28e0f0bba",
      "metadata": {
        "id": "dfb8a7f3-afd8-42fb-9a15-09c28e0f0bba"
      },
      "source": [
        "### Task:2 Create a bar graph to represent the marks"
      ]
    },
    {
      "cell_type": "code",
      "execution_count": null,
      "id": "79514f5d-14d4-4cb1-a824-30d4bf5fdf00",
      "metadata": {
        "id": "79514f5d-14d4-4cb1-a824-30d4bf5fdf00"
      },
      "outputs": [],
      "source": [
        "# The Data is-\n",
        "students = ['John', 'Jane', 'Alice', 'Bob']\n",
        "marks = [75,85,60,90]"
      ]
    },
    {
      "cell_type": "code",
      "execution_count": null,
      "id": "4fa7e1a6-1818-4933-a629-72fcfdfad5e4",
      "metadata": {
        "id": "4fa7e1a6-1818-4933-a629-72fcfdfad5e4",
        "outputId": "6e09c8a5-4eb8-427d-a0b6-ce8166448431"
      },
      "outputs": [
        {
          "data": {
            "image/png": "[encoded data removed]",
            "text/plain": [
              "<Figure size 640x480 with 1 Axes>"
            ]
          },
          "metadata": {},
          "output_type": "display_data"
        }
      ],
      "source": [
        "# a. Plot the data as a bar graph.\n",
        "plt.bar(students,marks)\n",
        "plt.show()"
      ]
    },
    {
      "cell_type": "code",
      "execution_count": null,
      "id": "2d876c94-4afe-4337-8f77-25c00855fc3a",
      "metadata": {
        "id": "2d876c94-4afe-4337-8f77-25c00855fc3a",
        "outputId": "c112343e-2ef5-49ed-d38f-f6b821aeac2c"
      },
      "outputs": [
        {
          "data": {
            "image/png": "[encoded data removed]",
            "text/plain": [
              "<Figure size 640x480 with 1 Axes>"
            ]
          },
          "metadata": {},
          "output_type": "display_data"
        }
      ],
      "source": [
        "# b. Customize the colors and add a title.\n",
        "plt.bar(students, marks, color = ['green', 'orange', 'skyblue', 'purple'])\n",
        "plt.title('Student Marks in a Subject')\n",
        "plt.xlabel('Students')\n",
        "plt.ylabel('Marks')\n",
        "plt.show()"
      ]
    },
    {
      "cell_type": "markdown",
      "id": "5134406d-8b35-407e-813a-cfb2a2fd6ea6",
      "metadata": {
        "id": "5134406d-8b35-407e-813a-cfb2a2fd6ea6"
      },
      "source": [
        "## Explanation\n",
        "plt.bar() create  bar chart. We assigned custom colors and labeled the axes and chart title for clarity."
      ]
    },
    {
      "cell_type": "markdown",
      "id": "06493457-d725-45d9-8fe1-5d5756e498bb",
      "metadata": {
        "id": "06493457-d725-45d9-8fe1-5d5756e498bb"
      },
      "source": [
        "### Task:3 - Create a pie chart"
      ]
    },
    {
      "cell_type": "code",
      "execution_count": null,
      "id": "e1704172-80f7-4f48-b91d-c1a1ebbc6429",
      "metadata": {
        "id": "e1704172-80f7-4f48-b91d-c1a1ebbc6429"
      },
      "outputs": [],
      "source": [
        "# The data is-\n",
        "regions = ['North America', 'Europe', 'Asia', 'Others']\n",
        "revenue = [45, 25, 20, 10]"
      ]
    },
    {
      "cell_type": "code",
      "execution_count": null,
      "id": "6c232b8e-896c-40bb-b4c5-5a04ed0c5514",
      "metadata": {
        "id": "6c232b8e-896c-40bb-b4c5-5a04ed0c5514",
        "outputId": "73010a40-8770-4334-c068-9fdb3105b005"
      },
      "outputs": [
        {
          "data": {
            "image/png": "[encoded data removed]",
            "text/plain": [
              "<Figure size 640x480 with 1 Axes>"
            ]
          },
          "metadata": {},
          "output_type": "display_data"
        }
      ],
      "source": [
        "# a. Create a pie chart with the region names as labels.\n",
        "plt.pie(revenue, labels = regions)\n",
        "plt.show()"
      ]
    },
    {
      "cell_type": "code",
      "execution_count": null,
      "id": "25fcaff2-eaa6-4dcc-9c36-427f4e947282",
      "metadata": {
        "id": "25fcaff2-eaa6-4dcc-9c36-427f4e947282",
        "outputId": "09ff97e8-127c-4f18-bc64-5b4a2667e4e1"
      },
      "outputs": [
        {
          "data": {
            "image/png": "[encoded data removed]",
            "text/plain": [
              "<Figure size 640x480 with 1 Axes>"
            ]
          },
          "metadata": {},
          "output_type": "display_data"
        }
      ],
      "source": [
        "# b. Highlight the highest revenue (North America)\n",
        "explode = [0.1,0,0,0] # Highlight the first slice\n",
        "plt.pie(revenue, labels = regions, explode = explode, autopct = '%1.1f%%', startangle = 140, shadow = True)\n",
        "plt.title(\"Company Revenue by Region\")\n",
        "plt.show()"
      ]
    },
    {
      "cell_type": "markdown",
      "id": "eca3ed5a-3b2c-420f-952a-518ca62f0ae0",
      "metadata": {
        "id": "eca3ed5a-3b2c-420f-952a-518ca62f0ae0"
      },
      "source": [
        "## Explanation\n",
        "* The explode list tells matplotlib which slice(s) to pull out or \"explode\" from the pie chart.\n",
        "    Here, we are pulling only the first slice (North America)\n",
        "out slightly from the rest of the pie using 0.1, 0 means no explosion for the other slices.\n",
        "* revenue: The values that define the size of each slice\n",
        "* labels = regions: This shows the region names on the chart.\n",
        "* explode=explode: Uses the explode setting to pull out the slice for North America.\n",
        "* autopct : Automatically displays the percentage of each slice on the chart.\n",
        "* startangle = 140 : Rotates the chart so the first slice(north america) starts at a 140 angle.\n",
        "* shadow = True : Addsa  shadow effect to the chart, giving it a 3D-like look.\n",
        "                                                                     \n"
      ]
    },
    {
      "cell_type": "markdown",
      "id": "d4825ac7-0056-4a6a-adb9-b29d13affac3",
      "metadata": {
        "id": "d4825ac7-0056-4a6a-adb9-b29d13affac3"
      },
      "source": [
        "### Task-4 Generate a histogram"
      ]
    },
    {
      "cell_type": "code",
      "execution_count": null,
      "id": "4f626439-ec68-402b-bbc8-556abe4c2e38",
      "metadata": {
        "id": "4f626439-ec68-402b-bbc8-556abe4c2e38"
      },
      "outputs": [],
      "source": [
        "# Generate 1000 random integers between 1 and 100\n",
        "\n",
        "data = np.random.randint(1,101, size=1000)\n"
      ]
    },
    {
      "cell_type": "markdown",
      "id": "44425789-bea2-47d5-aa8a-e0b30ae80c66",
      "metadata": {
        "id": "44425789-bea2-47d5-aa8a-e0b30ae80c66"
      },
      "source": [
        "#### Plot the Histogram"
      ]
    },
    {
      "cell_type": "code",
      "execution_count": null,
      "id": "d51c1c95-21cb-4d48-ac18-74b0d14f4b02",
      "metadata": {
        "id": "d51c1c95-21cb-4d48-ac18-74b0d14f4b02",
        "outputId": "1f8a88d2-20d8-4120-9cf1-38028c5fbfd8"
      },
      "outputs": [
        {
          "data": {
            "image/png": "[encoded data removed]",
            "text/plain": [
              "<Figure size 640x480 with 1 Axes>"
            ]
          },
          "metadata": {},
          "output_type": "display_data"
        }
      ],
      "source": [
        "plt.hist(data, bins =15, color = 'green', edgecolor = \"red\")\n",
        "plt.title(\"Frequency Distribution of Random Integers\")\n",
        "plt.xlabel('Value Range')\n",
        "plt.ylabel('Frequency')\n",
        "plt.grid(True)\n",
        "plt.show()"
      ]
    },
    {
      "cell_type": "markdown",
      "id": "57052d75-4beb-475c-8057-561834e2c0f2",
      "metadata": {
        "id": "57052d75-4beb-475c-8057-561834e2c0f2"
      },
      "source": [
        "## Explanation\n",
        "We used np.random.randint() to generate 1000 random integers, and plt.hist() to visualize the frequency distribution. bins=15 splits the data into intervals."
      ]
    },
    {
      "cell_type": "code",
      "execution_count": null,
      "id": "bb538245-53bb-44c7-b7ab-711f88e7e772",
      "metadata": {
        "id": "bb538245-53bb-44c7-b7ab-711f88e7e772"
      },
      "outputs": [],
      "source": []
    }
  ],
  "metadata": {
    "kernelspec": {
      "display_name": "Python [conda env:base] *",
      "language": "python",
      "name": "conda-base-py"
    },
    "language_info": {
      "codemirror_mode": {
        "name": "ipython",
        "version": 3
      },
      "file_extension": ".py",
      "mimetype": "text/x-python",
      "name": "python",
      "nbconvert_exporter": "python",
      "pygments_lexer": "ipython3",
      "version": "3.12.7"
    },
    "colab": {
      "provenance": [],
      "include_colab_link": true
    }
  },
  "nbformat": 4,
  "nbformat_minor": 5
}