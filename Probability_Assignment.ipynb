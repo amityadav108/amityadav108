{
  "cells": [
    {
      "cell_type": "markdown",
      "metadata": {
        "id": "view-in-github",
        "colab_type": "text"
      },
      "source": [
        "<a href=\"https://colab.research.google.com/github/amityadav108/amityadav108/blob/main/Probability_Assignment.ipynb\" target=\"_parent\"><img src=\"https://colab.research.google.com/assets/colab-badge.svg\" alt=\"Open In Colab\"/></a>"
      ]
    },
    {
      "cell_type": "markdown",
      "id": "efa279ce-6ea1-4e46-8a0a-57a7e432ceee",
      "metadata": {
        "id": "efa279ce-6ea1-4e46-8a0a-57a7e432ceee"
      },
      "source": [
        "# Module 5 - Probability"
      ]
    },
    {
      "cell_type": "markdown",
      "id": "53264d8f-44e9-47d8-b06a-98461f840a15",
      "metadata": {
        "id": "53264d8f-44e9-47d8-b06a-98461f840a15"
      },
      "source": [
        "## Basics of Probability"
      ]
    },
    {
      "cell_type": "raw",
      "id": "dace3bf1-c664-4536-bbc1-787043c6f93d",
      "metadata": {
        "id": "dace3bf1-c664-4536-bbc1-787043c6f93d"
      },
      "source": [
        "# 1- Write a Python program to simulate the following scenarios:\n",
        "  a. Tossing a coin 10,000 times and calculating the experimental probability of heads and tails.\n",
        "  b. Rolling two dice and computing the probability of getting a sum of 7.\n",
        "  Steps\n",
        "      a. Use Python's random module for simulations.\n",
        "      b. Implement loops for repeated trials.\n",
        "      c. Track outcomes and compute probabilities.\n",
        ""
      ]
    },
    {
      "cell_type": "code",
      "execution_count": null,
      "id": "b6f5b6be-f550-4aca-b88f-ebc45c808b9a",
      "metadata": {
        "id": "b6f5b6be-f550-4aca-b88f-ebc45c808b9a"
      },
      "outputs": [],
      "source": [
        "import random  # Required to generate the random tossing of a coin"
      ]
    },
    {
      "cell_type": "code",
      "execution_count": null,
      "id": "ff377acf-d926-4a19-adc6-f8384c2e3739",
      "metadata": {
        "id": "ff377acf-d926-4a19-adc6-f8384c2e3739",
        "outputId": "8d5c25aa-1ce1-4611-e657-fbefe0a63d37"
      },
      "outputs": [
        {
          "name": "stdout",
          "output_type": "stream",
          "text": [
            "Coin Toss Simulations: \n",
            "Total Tosses: 10000\n",
            " Heads: 5035 ( 1.0141)\n",
            " Tails: 4965 ( 0.9861)\n",
            "\n"
          ]
        }
      ],
      "source": [
        "# a: Tossing a coin 10000 times-\n",
        "def coin_toss( trails = 10000 ):   # We define a function called coin_toss(). it will simulate tossing a coin 10000 times by default\n",
        "    heads = 0    # This variable count how many times we get Heads\n",
        "    tails = 0    # This variable also count how many times we get Tails\n",
        "    for i in range(trails):         # This loop runs trails 10000 times, each time it randomly choose either \"Heads\" or \"Tails\". It adds 1 to the appropriate counter.\n",
        "        toss = random.choice([\"Heads\", \"Tails\"])\n",
        "        if toss == \"Heads\":\n",
        "            heads +=1\n",
        "        else:\n",
        "            tails +=1\n",
        "\n",
        "    prob_heads = heads / tails    # The probability is calculated [Probability = count/(total tosses)]\n",
        "    prob_tails = tails / heads\n",
        "\n",
        "    print(\"Coin Toss Simulations: \")\n",
        "    print(f\"Total Tosses: {trails}\")          # Print the total number of tosses\n",
        "    print(f\" Heads: {heads} ({prob_heads: .4f})\")      # Print the number of \"Heads\" and their probabilities (rounded to 4 decimal places)\n",
        "    print(f\" Tails: {tails} ({prob_tails: .4f})\\n\")    # # Print the number of \"Tails\" and their probabilities (rounded to 4 decimal places)\n",
        "\n",
        "coin_toss()    # This is calling the function to run and display the results."
      ]
    },
    {
      "cell_type": "code",
      "execution_count": null,
      "id": "9810e9c4-0529-4f06-9c4a-572fe78c816f",
      "metadata": {
        "id": "9810e9c4-0529-4f06-9c4a-572fe78c816f",
        "outputId": "563112f4-27f5-4daa-b921-0fe4885deae3"
      },
      "outputs": [
        {
          "name": "stdout",
          "output_type": "stream",
          "text": [
            "Dice Roll Simulation : \n",
            "Total Roll: 10000\n",
            "Sum of Seven Occurred: 1661 times\n",
            "Probability of getting a sum of seven :  0.1661\n"
          ]
        }
      ],
      "source": [
        "import random  # Required for generating random numbers\n",
        "# b: Rolling two dice and computing probability of sum = 7\n",
        "\n",
        "# Define a function to estimate the probability of rolls.It will simulate rolling a dice 10000 times by default\n",
        "def dice_rolls(trails = 10000):\n",
        "    sum_seven = 0          # Count how many times the sum is 7\n",
        "\n",
        "    for i in range(trails):\n",
        "        dice_1 = random.randint(1,6)     # Roll the first die (1 to 6)\n",
        "        dice_2 = random.randint(1,6)     # Roll the second die (1 to 6)\n",
        "        if dice_1 + dice_2 ==7:\n",
        "            sum_seven +=1                # Increment by 1 if the sum is 7\n",
        "\n",
        "    prob_sum_seven = sum_seven / trails   # Calculate the experimental probability\n",
        "\n",
        "    print(\"Dice Roll Simulation : \")\n",
        "    print(f\"Total Roll: {trails}\")      # Print the total number of Rolls\n",
        "    print(f\"Sum of Seven Occurred: {sum_seven} times\")  # Print the sum of seven occured\n",
        "    print(f\"Probability of getting a sum of seven : {prob_sum_seven: .4f}\")    # Print the Probability of getting a sum of seven (Rounded to 4 decimal places)\n",
        "\n",
        "dice_rolls()   # This is calls the function to run and display the results."
      ]
    },
    {
      "cell_type": "raw",
      "id": "e915c1f0-6d8f-4773-92da-d381eda7ca33",
      "metadata": {
        "id": "e915c1f0-6d8f-4773-92da-d381eda7ca33"
      },
      "source": [
        "# 2. Write a function to estimate the probability of getting at least one \"6\" in 10 rolls of a fair die.\n",
        "  Steps\n",
        "      a. Simulate rolling a die 10 times using a loop.\n",
        "      b. Track trials where at least one \"6\" occurs.\n",
        "      c. Calculate the proportion of successful trials.\n"
      ]
    },
    {
      "cell_type": "code",
      "execution_count": null,
      "id": "8ea469c9-243f-429d-95cb-0eeaffcaf128",
      "metadata": {
        "id": "8ea469c9-243f-429d-95cb-0eeaffcaf128",
        "outputId": "905921d0-7c84-4cab-d2b0-408d0a49569e"
      },
      "outputs": [
        {
          "name": "stdout",
          "output_type": "stream",
          "text": [
            "Estimated Probability of getting at least one '6' in 10 rolls: 0.8376\n"
          ]
        }
      ],
      "source": [
        "import random     # Import the random module to simulate dice rolls\n",
        "\n",
        "\n",
        "def estimate_probability_of_at_least_one_six(trials=10000):     # This is a function to estimate the probability,It runs the simulation 10,000 times by default.\n",
        "    success_count = 0           # Count how many trials had at least one '6'\n",
        "\n",
        "    for _ in range(trials):    # this is for loop, Repeat this process 'trials' times\n",
        "        got_six = False          # Flag to check if a '6' was rolled in this trial\n",
        "        for _ in range(10):  # Roll die 10 times\n",
        "            roll = random.randint(1, 6)  # Simulate one roll of a 6-sided die\n",
        "            if roll == 6:\n",
        "                got_six = True      # If roll is 6, mark it as a success\n",
        "                break  # No need to roll further in this trial, we only need at least one 6\n",
        "\n",
        "        if got_six:\n",
        "            success_count += 1    # Add 1 to success_count if at least one 6 was rolled\n",
        "\n",
        "    estimated_probability = success_count / trials   # Calculate the estimated probability [Probability = Successfull Trails/ (Total Trails)]\n",
        "    print(f\"Estimated Probability of getting at least one '6' in 10 rolls: {estimated_probability:.4f}\")       # Displays the result rounded to 4 decimal places\n",
        "\n",
        "\n",
        "estimate_probability_of_at_least_one_six()  # This is calling the function to run and display the results."
      ]
    },
    {
      "cell_type": "markdown",
      "id": "76af29d7-2634-4140-bf46-36bfb3416670",
      "metadata": {
        "id": "76af29d7-2634-4140-bf46-36bfb3416670"
      },
      "source": [
        "## Conditional Probability and Bayes' Theorem"
      ]
    },
    {
      "cell_type": "raw",
      "id": "a2e7e985-18bb-466d-9b62-b88ce7392c6a",
      "metadata": {
        "id": "a2e7e985-18bb-466d-9b62-b88ce7392c6a"
      },
      "source": [
        "# 3. A bag contains 5 red, 7 green, and 8 blue balls. A ball is drawn randomly, its color noted, and it is put back into the bag. If this process is repeated 1000 times, write a Python program to estimate:\n",
        "  a. The probability of drawing a red ball given that the previous ball was blue.\n",
        "  b. Verify Bayes' theorem with the simulation results.\n",
        "Steps\n",
        "    a. Use random sampling to simulate the process.\n",
        "    b. Compute conditional probabilities directly from the data.\n"
      ]
    },
    {
      "cell_type": "code",
      "execution_count": null,
      "id": "c2de7300-e25e-41bc-a131-d2cfcc5b428a",
      "metadata": {
        "id": "c2de7300-e25e-41bc-a131-d2cfcc5b428a"
      },
      "outputs": [],
      "source": [
        "import random     # For random sampling from the bag"
      ]
    },
    {
      "cell_type": "code",
      "execution_count": null,
      "id": "fc781ba8-1377-4b18-bedd-f8acae80eb64",
      "metadata": {
        "id": "fc781ba8-1377-4b18-bedd-f8acae80eb64",
        "outputId": "4d3091a8-222b-46e2-e8c2-d0e593a23f88"
      },
      "outputs": [
        {
          "name": "stdout",
          "output_type": "stream",
          "text": [
            "P(Red | Blue before):  0.2401\n",
            "Bays Theorem RHS:  0.2401\n"
          ]
        }
      ],
      "source": [
        "def easy_simulation(trails = 1000):      #This defines a function named easy_simulation with default 1000 repetitions (you used 10000 later, which is even better for accuracy).\n",
        "    bag = [\"Red\"]*5 + [\"Green\"]*7 + [\"Blue\"]*8      #Simulates the bag: Red balls,Green balls,Blue balls\n",
        "\n",
        "    blue_first = 0      #Trials where the first ball was blue\n",
        "    red_after_blue = 0  #Trials where first was blue AND second was red\n",
        "\n",
        "    red_second = 0         #Trials where the second ball was red\n",
        "    blue_before_red = 0      #Trials where second was red AND first was blue\n",
        "\n",
        "    for i in range(trails):   #Loop that runs the experiment trials times\n",
        "        first = random.choice(bag)   # pick one balls randomly\n",
        "        second = random.choice(bag)   # pick second balls randomly with replacement\n",
        "\n",
        "\n",
        "        # a: Track when first is blue and second is red\n",
        "        if first == \"Blue\":\n",
        "            blue_first += 1    # If the first ball is blue, increase blue_first\n",
        "            if second == \"Red\":\n",
        "                red_after_blue += 1     #If the second is red, increase red_after_blue\n",
        "\n",
        "        # b: For Bayes check\n",
        "        if second == \"Red\":\n",
        "            red_second += 1     # If the second is red, count red_second\n",
        "            if first == \"Blue\":\n",
        "                blue_before_red += 1      #If the first was blue, count blue_before_red\n",
        "\n",
        "    # Probabilities\n",
        "\n",
        "    p_red_given_blue = red_after_blue / blue_first if blue_first else 0   # Probability second is red given first is blue\n",
        "    p_blue_given_red = blue_before_red / red_second if red_second else 0    # Probability first is blue given second is red\n",
        "    p_red = red_second / trails           #Probability second ball is red (overall)\n",
        "    p_blue = blue_first / trails           #Probability first ball is blue (overall)\n",
        "\n",
        "    # Bays Theorem check\n",
        "\n",
        "    bayes_theorem_rhs = (p_blue_given_red*p_red)/ p_blue if p_blue else 0\n",
        "\n",
        "    print(\"P(Red | Blue before): \", round(p_red_given_blue, 4))    #The simulated conditional probability\n",
        "    print(\"Bays Theorem RHS: \", round(bayes_theorem_rhs, 4))        #The Bayes Theorem computed result\n",
        "\n",
        "\n",
        "easy_simulation(10000)  #this is called function,10,000 repetitions for better accuracy.\n"
      ]
    },
    {
      "cell_type": "markdown",
      "id": "656cd7b4-4aee-40b1-8512-3afc22f94f70",
      "metadata": {
        "id": "656cd7b4-4aee-40b1-8512-3afc22f94f70"
      },
      "source": [
        "## Random Variables and Discrete Probability"
      ]
    },
    {
      "cell_type": "raw",
      "id": "b101d2d4-972e-4226-8546-5c3b651dd3db",
      "metadata": {
        "id": "b101d2d4-972e-4226-8546-5c3b651dd3db"
      },
      "source": [
        "# 4. Generate a sample of size 1000 from a discrete random variable with the following distribution:\n",
        "  - P(X=1) = 0.25\n",
        "  - P(X=2) = 0.35\n",
        "  - P(X=3) = 0.4\n",
        "  Compute the empirical mean, variance, and standard deviation of the sample.\n",
        "  Steps\n",
        "      a. Use numpy.random.choice() to generate the sample.\n",
        "      b. Use numpy methods to calculate mean, variance, and standard deviation."
      ]
    },
    {
      "cell_type": "code",
      "execution_count": null,
      "id": "beaaee4c-8460-417c-9189-70a43b5ff202",
      "metadata": {
        "id": "beaaee4c-8460-417c-9189-70a43b5ff202"
      },
      "outputs": [],
      "source": [
        "import numpy as np  # Import NumPy for handling arrays, numerical values"
      ]
    },
    {
      "cell_type": "code",
      "execution_count": null,
      "id": "8b2f9025-d80f-44e6-a98e-8c537dfc3a9b",
      "metadata": {
        "id": "8b2f9025-d80f-44e6-a98e-8c537dfc3a9b",
        "outputId": "f73c0cd6-d500-4c48-b578-17539050d7f6"
      },
      "outputs": [
        {
          "name": "stdout",
          "output_type": "stream",
          "text": [
            "Mean:  2.2\n",
            "Varience:  0.606\n",
            "Standard Deviation 0.7784600182411425\n"
          ]
        }
      ],
      "source": [
        "# a: Define a values and their probabilites\n",
        "values = [1,2,3]    #This defines a discrete random variable X that can take on the values 1, 2, or 3\n",
        "probabilities = [0.25, 0.35, 0.40]  #Each value has a specified probability of occurring (they must add up to 1).\n",
        "\n",
        "# Generate a sample of size 1000\n",
        "sample = np.random.choice(values, size = 1000, p = probabilities) #This line creates a random sample of 1000 values from the defined distribution, size=1000 means we repeat this 1000 times.\n",
        "\n",
        "print(\"Mean: \", np.mean(sample))   #Print the average value of the sample\n",
        "print(\"Varience: \", np.var(sample))  # Prin the variance – how spread out the values are\n",
        "print(\"Standard Deviation\", np.std(sample)) #Print the standard deviation – square root of variance\n"
      ]
    },
    {
      "cell_type": "markdown",
      "id": "98353ab7-8ec5-42a3-88b5-2be84984ffac",
      "metadata": {
        "id": "98353ab7-8ec5-42a3-88b5-2be84984ffac"
      },
      "source": [
        "## Continuous Random Variables"
      ]
    },
    {
      "cell_type": "raw",
      "id": "7db5f709-3a04-4079-af82-313830add496",
      "metadata": {
        "id": "7db5f709-3a04-4079-af82-313830add496"
      },
      "source": [
        "# 5. Simulate 2000 random samples from an exponential distribution with a mean of 5. Visualize the distribution using:\n",
        "  a. A histogram.\n",
        "  b. A probability density function (PDF) overlay.\n",
        "  Steps\n",
        "      a. Use numpy.random.exponential().\n",
        "      b. Use matplotlib to create visualizations.\n"
      ]
    },
    {
      "cell_type": "code",
      "execution_count": null,
      "id": "a23e074f-536d-4273-81c8-746f827cff09",
      "metadata": {
        "id": "a23e074f-536d-4273-81c8-746f827cff09"
      },
      "outputs": [],
      "source": [
        "import numpy as np  #Import NumPy for handling arrays, numerical values\n",
        "import matplotlib.pyplot as plt  # for plotting the histogram and curve\n",
        "from scipy.stats import expon    #to get the exponential distribution’s PDF"
      ]
    },
    {
      "cell_type": "code",
      "execution_count": null,
      "id": "f643e420-e225-4138-b68b-29a114b474eb",
      "metadata": {
        "id": "f643e420-e225-4138-b68b-29a114b474eb",
        "outputId": "2c52f5b3-4c95-4cb6-e131-d3a02e359e42"
      },
      "outputs": [
        {
          "data": {
            "image/png": "[encoded data removed]",
            "text/plain": [
              "<Figure size 640x480 with 1 Axes>"
            ]
          },
          "metadata": {},
          "output_type": "display_data"
        }
      ],
      "source": [
        "# a: Generate 2000 random samples from exponential distribution  (mean = 5)\n",
        "mean = 5     #Generate random numbers from an exponential distribution where the mean (average value) is 5.\n",
        "sample = np.random.exponential(scale=mean, size = 2000)  #We generate 2000 random numbers from an exponential distribution, Exponential distribution uses \"scale\" as the mean\n",
        "\n",
        "# b: plot histrogram\n",
        "plt.hist(sample, bins=30, density = True, alpha=0.6, color=\"green\", label = \"Histrogram\")\n",
        "#plt.hist() draws a histogram\n",
        "#bins=30- divides the data into 30 ranges\n",
        "#density=True- makes the area under the histogram equal to 1 (so it's comparable to a PDF)\n",
        "#alpha=0.6- sets transparency (makes it a bit see-through)\n",
        "#label=\"Histogram\"-for the legend\n",
        "\n",
        "\n",
        "# plot the PDF(Probability Density Function)\n",
        "\n",
        "x= np.linspace(0, max(sample), 1000)  #creates 1000 evenly spaced x-values\n",
        "pdf = expon.pdf(x, scale=mean)        #calculates the probability density function of the exponential\n",
        "plt.plot(x,pdf, 'r', label = 'PDF (theoretical)')  #Plots the red PDF line over the histogram\n",
        "\n",
        "# Label and Legend\n",
        "plt.title('Exponential Distribution (mean = 5)')  # Adds a descriptive title to the graph\n",
        "plt.xlabel('Value')    # x- Label the axes\n",
        "plt.ylabel('Density')   # y- Label the axes\n",
        "plt.legend()           # Displays the legend (Histogram vs PDF)\n",
        "\n",
        "plt.show()             #Displays the final plot with both the histogram and the PDF curve"
      ]
    },
    {
      "cell_type": "markdown",
      "id": "640fb0f5-c1e8-406d-84d3-625627ff4778",
      "metadata": {
        "id": "640fb0f5-c1e8-406d-84d3-625627ff4778"
      },
      "source": [
        "## Central Limit Theorem"
      ]
    },
    {
      "cell_type": "raw",
      "id": "d8608fcf-d037-43d6-b214-c5713f5e2e5a",
      "metadata": {
        "id": "d8608fcf-d037-43d6-b214-c5713f5e2e5a"
      },
      "source": [
        "# 6. Simulate the Central Limit Theorem by following these steps\n",
        "  a. Generate 10,000 random numbers from a uniform distribution.\n",
        "  b. Draw 1000 samples of size n = 30.\n",
        "  c. Calculate and visualize the distribution of sample means.\n",
        "  Steps\n",
        "      a. Use numpy.random.uniform().\n",
        "      b. Plot both the uniform distribution and the sample mean distribution for comparison."
      ]
    },
    {
      "cell_type": "code",
      "execution_count": null,
      "id": "ef2b24aa-7d38-42ef-8072-7c65eef0cf2d",
      "metadata": {
        "id": "ef2b24aa-7d38-42ef-8072-7c65eef0cf2d"
      },
      "outputs": [],
      "source": [
        "import numpy as np      #numpy generating random numbers and calculating averages\n",
        "import matplotlib.pyplot as plt   #for plotting the histogram and curve"
      ]
    },
    {
      "cell_type": "code",
      "execution_count": null,
      "id": "7a7959f1-6d86-4f50-be48-b82378eef282",
      "metadata": {
        "id": "7a7959f1-6d86-4f50-be48-b82378eef282",
        "outputId": "c0cd9933-ced4-4a9d-b3ca-c2e34f1b81ba"
      },
      "outputs": [
        {
          "data": {
            "image/png": "[encoded data removed]",
            "text/plain": [
              "<Figure size 1200x500 with 2 Axes>"
            ]
          },
          "metadata": {},
          "output_type": "display_data"
        }
      ],
      "source": [
        "# a: Generate 10000 random numbers from a uniform distribution (between 0 and 1)\n",
        "uniform_data = np.random.uniform(low=0, high=1, size=10000)   #All values are equally likely between 0 and 1\n",
        "\n",
        "# b: Draw 1000 samples of size 30 and calculate their means\n",
        "sample_means = []        # Empty list to store means\n",
        "for i in range(1000):        #For loop Repeat 1000 times\n",
        "    sample = np.random.choice(uniform_data, size=30)     # Randomly pick 30 values\n",
        "    sample_means.append(np.mean(sample))                # Calculate and store the average\n",
        "\n",
        "# c: plot the both distribution\n",
        "plt.figure(figsize = (12,5))     # Create a figure with width 12 and height 5\n",
        "\n",
        "#plot the original uniform data\n",
        "plt.subplot(1,2,1)       # First subplot (left side)\n",
        "plt.hist(uniform_data, bins=30, color = \"blue\", edgecolor = \"black\")\n",
        "plt.title(\"Original Uniform Distribution\")\n",
        "plt.xlabel(\"Value\")\n",
        "plt.ylabel(\"Frequency\")\n",
        "\n",
        "# plot the distribution of sample means\n",
        "plt.subplot(1,2,2)          # Second subplot (right side)\n",
        "plt.hist(sample_means, bins=30, color=\"green\", edgecolor = \"red\")\n",
        "plt.title(\"Distribution of sample Means (n=30)\")\n",
        "plt.xlabel(\"Sample Mean\")\n",
        "plt.ylabel(\"Frequency\")\n",
        "\n",
        "plt.tight_layout()       # Adjust spacing between plots\n",
        "plt.show()"
      ]
    },
    {
      "cell_type": "code",
      "execution_count": null,
      "id": "72464700-6592-48a0-bfc6-b5ab9fb88c4b",
      "metadata": {
        "id": "72464700-6592-48a0-bfc6-b5ab9fb88c4b"
      },
      "outputs": [],
      "source": []
    }
  ],
  "metadata": {
    "kernelspec": {
      "display_name": "Python [conda env:base] *",
      "language": "python",
      "name": "conda-base-py"
    },
    "language_info": {
      "codemirror_mode": {
        "name": "ipython",
        "version": 3
      },
      "file_extension": ".py",
      "mimetype": "text/x-python",
      "name": "python",
      "nbconvert_exporter": "python",
      "pygments_lexer": "ipython3",
      "version": "3.12.7"
    },
    "colab": {
      "provenance": [],
      "include_colab_link": true
    }
  },
  "nbformat": 4,
  "nbformat_minor": 5
}